{
 "cells": [
  {
   "cell_type": "markdown",
   "metadata": {
    "id": "GCicKNa9syjm"
   },
   "source": [
    "# Мастерская. Проект Dota 2: игровая аналитика\n",
    "* Выполнила: Олеся Косарева (x_olesya_kosareva)\n",
    "\n",
    "**Цель проекта** провести исследовательский анализ данных, сформулировать и проверить гипотезы, которые позволят точнее настроить модель предсказания результатов матчей в игре DOTA 2.\n",
    "\n",
    "\n",
    "**Описание данных**\n",
    "\n",
    "\n",
    "*Информация об игроках (df_players.csv), postgre: players*\n",
    "\n",
    "\n",
    "* 0\t**Match_id** — Идентификатор матча\n",
    "* 1\t**Player_slot** — Слот игрока в матче\n",
    "* 2\t**Steam_id** — Идентификатор аккаунта игрока\n",
    "* 3\t**Personaname** — Имя игрока\n",
    "* 4\t**Assists** — Количество ассистов в матче (помощь в убийстве)\n",
    "* 5\t**Deaths** — Количество смертей в матче\n",
    "* 6\t**Denies** — количесвто убитых союзных мобов\n",
    "* 7\t**Gold_per_min** — Количество золота, которое игрок получает за минуту в матче\n",
    "* 8\t**Hero_id** — Идентификатор героя игрока\n",
    "* 9\t**Item_0** — Предмет 1\n",
    "* 10\t**Item_1** — Предмет 2\n",
    "* 11\t**Item_2** — Предмет 3\n",
    "* 12\t**Item_3** — Предмет 4\n",
    "* 13\t**Item_4** — Предмет 5\n",
    "* 14\t**Item_5** — Предмет 6\n",
    "* 15\t**Kills** — Количество убийств в матче\n",
    "* 16\t**Xp_per_min** — Количество опыта за минуту в матче\n",
    "* 17\t**isRadiant** — Фракция: radiant / dire\n",
    "* 18\t**Win** — Победа 0 / 1 (да или нет)\n",
    "* 19\t**Kills_per_min** — Количество убийств за минуту матча\n",
    "* 20\t**Last_hits_per_min** — Количество последних ударов по мобам за минуту матча (влияет на золото)\n",
    "* 21\t**Hero_damage_per_min** — Средний урон героя в минуту матча\n",
    "* 22\t**Hero_healing_per_min** — Среднее лечение героя в минуту матча\n",
    "* 23\t**Tower_damage_per_min** — Количество урона башен в минуту матча\n",
    "\n",
    "\n",
    "\n",
    "*Информация о матчах (df_matches.csv), postgre: matches*\n",
    "\n",
    "\n",
    "* 0\t**Match_id** — Идентификатор матча\n",
    "* 1\t**Duration** — Длительность матча в секундах\n",
    "* 2\t**First_blood_time** — Время до первого убийства\n",
    "* 3\t**Radiant_win** — Какая фракция победила\n",
    "* 4\t**Region** — Идентификатор региона\n",
    "\n",
    "\n",
    "*Информация о героях (df_heroes.csv), postgre: heroes*\n",
    "\n",
    "\n",
    "\n",
    "* 0\t**Id** — Идентификатор героя\n",
    "* 1\t**Localized_name** — Имя героя\n",
    "* 2\t**Attack_type** — Тип атаки героя\n",
    "* 3\t**Primary_attr** — Основной атрибут героя\n",
    "* 4\t**Roles** — Роли героя\n",
    "* 5\t**Base_health** — Базовое здоровье\n",
    "* 6\t**Base_health_regen** — Базовая регенерация здоровья\n",
    "* 7\t**Base_mana** — Базовая мана\n",
    "* 8\t**Base_mana_regen** — Базовая регенерация маны\n",
    "* 9\t**Base_armor** — Базовая броня\n",
    "* 10\t**Base_mr** — Сопротивляемость магии (magic resist)\n",
    "* 11\t**Base_attack_min** — Базовая минимальная атака (урон)\n",
    "* 12\t**Base_attack_max** — Базовая максимальная атака (урон)\n",
    "* 13\t**Base_str** — Базовая сила\n",
    "* 14\t**Base_agi** — Базовая ловкость\n",
    "* 15\t**Base_int** — Базовый интеллект\n",
    "* 16\t**Str_gain** — Рост силы с уровнем\n",
    "* 17\t**Agi_gain** — Рост ловкости с уровнем\n",
    "* 18\t**Int_gain** — Рост интеллекта с уровнем\n",
    "* 19\t**Attack_range** — Дистанция атаки\n",
    "* 20\t**Projectile_speed** — Скорость стрельбы\n",
    "* 21\t**Attack_rate** — Скорость атаки\n",
    "* 22\t**Base_attack_time** — Время базовой атаки\n",
    "* 23\t**Attack_point** — Время до начала атаки героя\n",
    "* 24\t**Move_speed** — Скорость передвижения\n",
    "* 25\t**Turn_rate** — Скорость поворота\n",
    "* 26\t**Cm_enabled** — капитанский режим (включен/ выключен)\n",
    "* 27\t**Legs** — Количество ног\n",
    "* 28\t**Day_vision** — Радиус видимости днем\n",
    "* 29\t**Night_vision** — Радиус видимости ночью\n",
    "\n",
    "**План работы:**\n",
    "* загрузить данные с sql-сервера\n",
    "* проверить данные (на пропуски, корректность названий, типов данных и т.д.) и провести при необходимости предварительную обработку\n",
    "* провести исследовательский анализ данных: рассмотреть все параметры матчей, героев и игроков:\n",
    "    - проверить есть ли корреляция между числовыми параметрами (опыт, золото, количество убийств и т. д.) и победой в матче\n",
    "    - построить гистограммы основных параметров матчей (убийства, ассисты, урон в минуту и прочие) в разрезе победивших и проигравших команд\n",
    "    - 10 топовых игроков по проценту побед: отличаются ли статы в их матчах от матчей, где их нет    \n",
    "    - какие предметы чаще приводят команду к победе: топ используемых в матчах предметов, в разрезе победителей / проигравших, какие предметы есть у победителей, которых нет у проигравших\n",
    "    - какой герой фармит больше всего золота\n",
    "    - какие герои получают больше всего опыта за игру\n",
    "    - какие фракции чаще побеждают: свет или тьма\n",
    "    - каких героев чаще всего выбирают\n",
    "    - какие герои чаще всего выигрывают\n",
    "    - какие герои совершают больше всего убийств, ассистов\n",
    "    - какой герой меньше всего умирает\n",
    "    - сколько в среднем длится матч\n",
    "    - среднее время до первой крови\n",
    "    - влияет ли средний процент побед игроков в команде на победу команды\n",
    "    - какие герои могут повлиять на исход матча в долгих играх (больше 50 минут)\n",
    "\n",
    "* проверить гипотезы о выборочных средних команд победителей и команд проигравших\n",
    "* проверить гипотезы о выборочных средних команд с топовыми игроками и команд без них"
   ]
  },
  {
   "cell_type": "markdown",
   "metadata": {
    "id": "5xYh__y8Y4lv"
   },
   "source": [
    "## 1. Загрузка библиотек"
   ]
  },
  {
   "cell_type": "code",
   "execution_count": 1,
   "metadata": {
    "id": "p_PIbKEuZU6G"
   },
   "outputs": [],
   "source": [
    "#pip install ydata_profiling"
   ]
  },
  {
   "cell_type": "code",
   "execution_count": 2,
   "metadata": {
    "id": "7TGrqcJGVx1D"
   },
   "outputs": [],
   "source": [
    "import pandas as pd\n",
    "from sqlalchemy import text, create_engine\n",
    "import csv\n",
    "#from ydata_profiling import ProfileReport\n",
    "from collections import Counter\n",
    "import numpy as np\n",
    "from zipfile import ZipFile\n",
    "from operator import ne\n",
    "\n",
    "from scipy.stats import norm\n",
    "from scipy import stats as st\n",
    "\n",
    "import seaborn as sns\n",
    "import matplotlib.pyplot as plt\n",
    "\n",
    "import warnings\n",
    "warnings.filterwarnings('ignore')\n",
    "pd.set_option('display.max_columns', None)\n",
    "\n",
    "# установка единого стиля\n",
    "plt.style.use('seaborn')"
   ]
  },
  {
   "cell_type": "code",
   "execution_count": 3,
   "metadata": {
    "id": "cT_HtFtJZpOp"
   },
   "outputs": [],
   "source": [
    "# для подключению к базе-sql\n",
    "# устанавливаем параметры\n",
    "# db_config = {'user': 'student', # имя пользователя\n",
    "# 'pwd': '', # пароль\n",
    "# 'host': '',\n",
    "# 'port': , # порт подключения\n",
    "# 'db': ''} # название базы данных\n",
    "# connection_string = (\n",
    "#     'postgresql://{user}:{pwd}@{host}:{port}/{db}'\n",
    "#     .format(**db_config)\n",
    "# )\n",
    "# # сохраняем коннектор\n",
    "# engine = create_engine(connection_string, connect_args={'sslmode':'require'})"
   ]
  },
  {
   "cell_type": "markdown",
   "metadata": {
    "id": "Z3BMsVX87H-A"
   },
   "source": [
    "### 1.1. Определение функций"
   ]
  },
  {
   "cell_type": "code",
   "execution_count": 4,
   "metadata": {
    "id": "md5_oi4DXqTk"
   },
   "outputs": [],
   "source": [
    "def plot_distplot_scatter_hue(df, df_win, df_lose, column, hue):\n",
    "    \"\"\"\n",
    "    вывод графиков для числовых колонок\n",
    "    с разбивкой по hue (в данном проекте это win)\n",
    "    \"\"\"\n",
    "    # гистограммы для числовых колонок\n",
    "    plt.figure(figsize=(10,3))\n",
    "    ax1=plt.subplot(1,2,1)\n",
    "    sns.distplot(df_lose[column],\n",
    "                 norm_hist=True,\n",
    "                 fit=norm,\n",
    "                 label='проигравшие',\n",
    "                 bins=20,)\n",
    "    sns.distplot(df_win[column],\n",
    "                norm_hist=True,\n",
    "                fit=norm,\n",
    "                label='победители',\n",
    "                bins=20)\n",
    "    plt.title(f'Распределение \\nпо параметру {column}', fontsize=11)\n",
    "    plt.xlabel(f'Параметр \"{column}\"')\n",
    "    plt.ylabel(f'Плотность распределения')\n",
    "    plt.legend(bbox_to_anchor=(1, 1))\n",
    "\n",
    "    ax2=plt.subplot(1,2,2)\n",
    "    sns.scatterplot(data=df,\n",
    "                    x='duration',\n",
    "                    y=column,\n",
    "                    hue=hue,\n",
    "                    marker=\"x\")\n",
    "    plt.title(f'Распределение параметра {column}\\nв зависимости \\\n",
    "от длительности игры', fontsize=11)\n",
    "    plt.xlabel('Длительность игры')\n",
    "    plt.ylabel(f'Параметр {column}')\n",
    "    plt.legend(bbox_to_anchor=(1, 1))\n",
    "\n",
    "    plt.tight_layout()\n",
    "    plt.show();"
   ]
  },
  {
   "cell_type": "code",
   "execution_count": 5,
   "metadata": {
    "id": "q0aiMeFNp8jN"
   },
   "outputs": [],
   "source": [
    "def top_10(df, column):\n",
    "    \"\"\"\n",
    "    Подготовка для расчета топ-10 уникальных элементов\n",
    "    у победителей и проиграших\n",
    "    \"\"\"\n",
    "    column_win = df.query('win == 1')\n",
    "    column_lose = df.query('win == 0')\n",
    "\n",
    "    list_win_column = []\n",
    "    for i in column_win[column]:\n",
    "        list_win_column.append(i)\n",
    "\n",
    "    list_lose_column = []\n",
    "    for i in column_lose[column]:\n",
    "        list_lose_column.append(i)\n",
    "\n",
    "    sum_win_column = (\n",
    "            pd.DataFrame\n",
    "            .from_dict(dict(Counter(list_win_column).most_common()),\n",
    "                       orient='index')\n",
    "    .reset_index().rename(columns={'index':column, 0:'win_count'})\n",
    "    )\n",
    "\n",
    "    sum_lose_column = (\n",
    "            pd.DataFrame\n",
    "            .from_dict(dict(Counter(list_lose_column).most_common()),\n",
    "                       orient='index')\n",
    "    .reset_index().rename(columns={'index':column, 0:'lose_count'})\n",
    "    )\n",
    "\n",
    "    t_column = sum_win_column.merge(sum_lose_column, on=column)\n",
    "    t_column['total'] = t_column['win_count'] + t_column['lose_count']\n",
    "    t_column['diff_w_l'] = (\n",
    "        round(((t_column['win_count'] - t_column['lose_count']) \\\n",
    "               / t_column['total']), 2)\n",
    "    )\n",
    "\n",
    "    x = np.arange(1,11)\n",
    "    labels = t_column.head(10)[column]\n",
    "    w = 0.25\n",
    "    fig, ax = plt.subplots(figsize=(7,4))\n",
    "    ax.bar(x-0.25, t_column.head(10)['lose_count'], w, label='проигравшие')\n",
    "    ax.bar(x, t_column.head(10)['win_count'], w, label='победители', )\n",
    "    ax.set_xticks(ticks=range(1,11))\n",
    "    ax.set_xticklabels(labels)\n",
    "    plt.title(f'Топ-10 {column},\\nпобедителей и проигравших\\n')\n",
    "    plt.xlabel('')\n",
    "    plt.ylabel('Количество')\n",
    "    plt.legend()\n",
    "    plt.xticks(rotation=70)\n",
    "    plt.show();\n",
    "\n",
    "    return sum_win_column, sum_lose_column, t_column\n"
   ]
  },
  {
   "cell_type": "code",
   "execution_count": 6,
   "metadata": {
    "id": "VVhQwPz4ByvF"
   },
   "outputs": [],
   "source": [
    "def top_10_plot(df, column, column2):\n",
    "    \"\"\"\n",
    "    Подготовка для расчета топ-10 числовых характеристик у героев\n",
    "    \"\"\"\n",
    "\n",
    "    plt.figure(figsize=(10,3))\n",
    "    ax1 = plt.subplot(1,2,1)\n",
    "    ax1.bar(x=df.nlargest(10, column).index,\n",
    "            height=df.nlargest(10, column)[column],\n",
    "            label='среднее')\n",
    "    plt.title(f'Топ-10 героев по {column} \\n')\n",
    "    plt.xlabel('')\n",
    "    plt.ylabel(f'Среднее {column} за все игры')\n",
    "    plt.xticks(rotation=70)\n",
    "\n",
    "    ax2 = plt.subplot(1,2,2)\n",
    "    ax2.bar(x=df.nlargest(10, column2).index,\n",
    "            height=df.nlargest(10, column2)[column2],\n",
    "            label='сумма')\n",
    "    plt.title(f'Топ-10 героев по {column2} \\n')\n",
    "    plt.xlabel('')\n",
    "    plt.ylabel(f'Медианное {column} за все игры')\n",
    "    plt.xticks(rotation=70)\n",
    "    plt.show();\n"
   ]
  },
  {
   "cell_type": "code",
   "execution_count": 7,
   "metadata": {
    "id": "rTqFOtU-IwqT"
   },
   "outputs": [],
   "source": [
    "def bot_10_plot(df, column, column2):\n",
    "    \"\"\"\n",
    "    Подготовка для расчета бот-10 числовых характеристик у героев\n",
    "    \"\"\"\n",
    "\n",
    "    plt.figure(figsize=(10,3))\n",
    "    ax1 = plt.subplot(1,2,1)\n",
    "    ax1.bar(x=df.nsmallest(10, column).index,\n",
    "            height=df.nsmallest(10, column)[column],\n",
    "            label='сумма')\n",
    "    plt.title(f'Топ-10 героев по {column} \\n')\n",
    "    plt.xlabel('')\n",
    "    plt.ylabel(f'Среднее {column} за все игры')\n",
    "    plt.xticks(rotation=70)\n",
    "\n",
    "    ax2 = plt.subplot(1,2,2)\n",
    "    ax2.bar(x=df.nsmallest(10, column2).index,\n",
    "            height=df.nsmallest(10, column2)[column2],\n",
    "            label='среднее')\n",
    "    plt.title(f'10 героев с меньшим {column} \\n')\n",
    "    plt.xlabel('')\n",
    "    plt.ylabel(f'Медианное {column} за все игры')\n",
    "    plt.xticks(rotation=70)\n",
    "    plt.show();\n"
   ]
  },
  {
   "cell_type": "code",
   "execution_count": 8,
   "metadata": {
    "id": "qaf6nSVNQxrJ"
   },
   "outputs": [],
   "source": [
    "def hero_lead(df, column):\n",
    "    \"\"\"\n",
    "    вывод топ-10 героев по параметру column\n",
    "    \"\"\"\n",
    "    df['total_column'] = df[column] *df['duration']\n",
    "    df_hero = (\n",
    "        df.groupby('localized_name')\n",
    "        .agg({'total_column':'mean'})\n",
    "    )\n",
    "\n",
    "    plt.figure(figsize=(7,3))\n",
    "    df_hero['total_column'].nlargest(10).plot.bar()\n",
    "    plt.title(f'Топ-10 героев, кто за игру получает больше {column}')\n",
    "    plt.xlabel(f'Имя героя')\n",
    "    plt.ylabel('Среднее для героя')\n",
    "    plt.xticks(rotation=70)\n",
    "    plt.show();"
   ]
  },
  {
   "cell_type": "code",
   "execution_count": 9,
   "metadata": {
    "id": "wEo8sHVdWA-4"
   },
   "outputs": [],
   "source": [
    "def plot_top_bot(df1, df2, column):\n",
    "    plt.figure(figsize=(6,3))\n",
    "    sns.distplot(df1[column],\n",
    "                  norm_hist=True,\n",
    "                  fit=norm,\n",
    "                  label='матчи с топами',\n",
    "                  bins=20,)\n",
    "    sns.distplot(df2[column],\n",
    "                norm_hist=True,\n",
    "                fit=norm,\n",
    "                label='матчи, где нет топов',\n",
    "                bins=20)\n",
    "    plt.title(f'Распределение \\nпо параметру {column}')\n",
    "    plt.xlabel(f'Параметр {column}')\n",
    "    plt.ylabel(f'Плотность распределения')\n",
    "    plt.legend(bbox_to_anchor=(1, 1))\n",
    "    plt.show();"
   ]
  },
  {
   "cell_type": "code",
   "execution_count": 10,
   "metadata": {
    "id": "zajuIBnWRmMY"
   },
   "outputs": [],
   "source": [
    "def match_data(df):\n",
    "\n",
    "    match_group = (\n",
    "        df.groupby(['match_id', 'win'], as_index=False)\n",
    "        .agg({'rate_win':'mean',\n",
    "              'assists':'sum',\n",
    "              'deaths':'sum',\n",
    "              'denies':'sum',\n",
    "              'gold_per_min':'sum',\n",
    "              'kills':'sum',\n",
    "              'xp_per_min':'sum',\n",
    "              'kills_per_min':'sum',\n",
    "              'last_hits_per_min':'sum',\n",
    "              'hero_damage_per_min':'sum',\n",
    "              'hero_healing_per_min':'sum',\n",
    "              'tower_damage_per_min':'sum',\n",
    "              'support':'sum',\n",
    "              'nuker':'sum',\n",
    "              'escape':'sum',\n",
    "              'disabler':'sum',\n",
    "              'carry':'sum',\n",
    "              'pusher':'sum',\n",
    "              'initiator':'sum',\n",
    "              'durable':'sum',\n",
    "              'duration':'first',\n",
    "              'first_blood_time':'first',\n",
    "              'is_radiant':'first'})\n",
    "    )\n",
    "    return match_group"
   ]
  },
  {
   "cell_type": "markdown",
   "metadata": {
    "id": "hlc8YTQGZeuy"
   },
   "source": [
    "## 2. Чтение файлов и первичная проверка данных"
   ]
  },
  {
   "cell_type": "markdown",
   "metadata": {
    "id": "0xcRVL2-buGa"
   },
   "source": [
    "### 2.1. Чтение данных"
   ]
  },
  {
   "cell_type": "code",
   "execution_count": 11,
   "metadata": {
    "id": "Rhjb0eugtpoF"
   },
   "outputs": [
    {
     "name": "stderr",
     "output_type": "stream",
     "text": [
      "\"wget\" не является внутренней или внешней\n",
      "командой, исполняемой программой или пакетным файлом.\n",
      "\"id\" не является внутренней или внешней\n",
      "командой, исполняемой программой или пакетным файлом.\n"
     ]
    }
   ],
   "source": [
    "file_url = 'https://drive.google.com/file/d/1K2OWFTRXUUt5SS6VW8EQLxVO1b7UpCBP/view?usp=sharing'\n",
    "\n",
    "file_id = file_url.split('/')[-2]\n",
    "\n",
    "!wget --quiet --no-check-certificate 'https://docs.google.com/uc?export=download&id={file_id}' -O игра_dota.zip"
   ]
  },
  {
   "cell_type": "code",
   "execution_count": null,
   "metadata": {
    "id": "XDdeesb5u1DZ"
   },
   "outputs": [],
   "source": [
    "ZipFile('игра_dota.zip').extractall()"
   ]
  },
  {
   "cell_type": "code",
   "execution_count": null,
   "metadata": {
    "colab": {
     "base_uri": "https://localhost:8080/",
     "height": 365
    },
    "id": "lky3TBkOvBE6",
    "outputId": "db881725-a789-48a1-e70e-3154eb1ce23e"
   },
   "outputs": [],
   "source": [
    "# при загрузке  базы\n",
    "#con=engine.connect()\n",
    "#players = pd.read_sql('SELECT * FROM players', con = con)\n",
    "players = pd.read_csv('/content/players.csv')\n",
    "players.head()"
   ]
  },
  {
   "cell_type": "code",
   "execution_count": null,
   "metadata": {
    "id": "8itJFqbmobnE"
   },
   "outputs": [],
   "source": [
    "# удаление столбца index, дублирующего индексы\n",
    "players = players.drop('index', axis=1)"
   ]
  },
  {
   "cell_type": "code",
   "execution_count": null,
   "metadata": {
    "colab": {
     "base_uri": "https://localhost:8080/"
    },
    "id": "wnHldBE7oeSq",
    "outputId": "288fd41e-ff3e-41db-86b9-489b004de3c0"
   },
   "outputs": [],
   "source": [
    "players.info()"
   ]
  },
  {
   "cell_type": "code",
   "execution_count": null,
   "metadata": {
    "colab": {
     "base_uri": "https://localhost:8080/",
     "height": 487
    },
    "id": "vINCpDrYa6JM",
    "outputId": "1acb0ece-db54-422d-d689-dba6287b6e4f"
   },
   "outputs": [],
   "source": [
    "# при загрузке  базы\n",
    "#con=engine.connect()\n",
    "#heroes = pd.read_sql('SELECT * FROM heroes', con = con)\n",
    "heroes = pd.read_csv('/content/heroes.csv')\n",
    "heroes.head()"
   ]
  },
  {
   "cell_type": "code",
   "execution_count": null,
   "metadata": {
    "id": "GOz3XPM_o9UI"
   },
   "outputs": [],
   "source": [
    "# удаление столбца index, дублирующего индексы\n",
    "heroes = heroes.drop('index', axis=1)\n",
    "# переименование столбца id в hero_id\n",
    "heroes = heroes.rename(columns={'id':'hero_id'})"
   ]
  },
  {
   "cell_type": "code",
   "execution_count": null,
   "metadata": {
    "colab": {
     "base_uri": "https://localhost:8080/",
     "height": 487
    },
    "id": "KW4mEc-ROakw",
    "outputId": "dd28891d-045a-4a42-c2cf-6d7528801cc0"
   },
   "outputs": [],
   "source": [
    "heroes.head()"
   ]
  },
  {
   "cell_type": "code",
   "execution_count": null,
   "metadata": {
    "colab": {
     "base_uri": "https://localhost:8080/"
    },
    "id": "C0eTtKejoiky",
    "outputId": "5222fbde-945d-4907-f94d-0ba5028be062"
   },
   "outputs": [],
   "source": [
    "heroes.info()"
   ]
  },
  {
   "cell_type": "code",
   "execution_count": null,
   "metadata": {
    "colab": {
     "base_uri": "https://localhost:8080/",
     "height": 206
    },
    "id": "NODTAlp0a9DO",
    "outputId": "fd806aef-526a-4e8e-b3b6-1b720d8d9b5d"
   },
   "outputs": [],
   "source": [
    "# при загрузке  базы\n",
    "#con=engine.connect()\n",
    "#matches = pd.read_sql('SELECT * FROM matches', con = con)\n",
    "matches = pd.read_csv('/content/matches.csv')\n",
    "matches.head()"
   ]
  },
  {
   "cell_type": "code",
   "execution_count": null,
   "metadata": {
    "colab": {
     "base_uri": "https://localhost:8080/",
     "height": 206
    },
    "id": "io1o0rbCpDk1",
    "outputId": "7228c93b-01fc-4ab9-a508-be9c5a84a95a"
   },
   "outputs": [],
   "source": [
    "# удаление столбца index, дублирующего индексы\n",
    "matches = matches.drop('index', axis=1)\n",
    "# перевод секунды в минуты, для удобства\n",
    "matches['duration'] = round(matches['duration'] / 60, 2)\n",
    "matches.head()"
   ]
  },
  {
   "cell_type": "code",
   "execution_count": null,
   "metadata": {
    "colab": {
     "base_uri": "https://localhost:8080/"
    },
    "id": "Zl_wZxnwVmSU",
    "outputId": "e3ade063-24d3-4d66-bc9f-314705c9dff5"
   },
   "outputs": [],
   "source": [
    "matches.info()"
   ]
  },
  {
   "cell_type": "markdown",
   "metadata": {
    "id": "NGWRTD4Nb4tz"
   },
   "source": [
    "### 2.2. Первичная проверка данных"
   ]
  },
  {
   "cell_type": "markdown",
   "metadata": {
    "id": "a7LNowx9sCuC"
   },
   "source": [
    "#### 2.2.1. Таблица players"
   ]
  },
  {
   "cell_type": "code",
   "execution_count": null,
   "metadata": {
    "id": "a_d1lkNVZorL"
   },
   "outputs": [],
   "source": [
    "# profile_players = ProfileReport(players, title='players_Отчет')\n",
    "# # profile_players.to_file(\"players_Отчет.html\")\n",
    "# profile_players"
   ]
  },
  {
   "cell_type": "markdown",
   "metadata": {
    "id": "xaVnCk4WsQOX"
   },
   "source": [
    "**Предварительный вывод по 2.2.1**\n",
    "* предварительно можно отметить высокую корреляцию в порядке убывания между парами: assists и win (0.502), death и win (0.456), tower_damage_per_min и win (0.393), gold_per_min и win (0.392), xp_per_min и win (0.391)\n",
    "* пропуски в колонке personaname можно игнорировать, так как на исследование не влияет, есть id аккаунта игрока\n",
    "* всего в таблице 868 игроков\n",
    "* типы данны соответствуют данным, колонки названны корректно, кроме isRadiant, ее нужно переименовать, в остальном предварительная обработка не требуется\n",
    "* Нужно проверить соответствует ли число матчей в таблице players числу матчей в таблице matches"
   ]
  },
  {
   "cell_type": "code",
   "execution_count": null,
   "metadata": {
    "id": "osJBkQAPKBn5"
   },
   "outputs": [],
   "source": [
    "players = players.rename(columns={'isRadiant':'is_radiant'})"
   ]
  },
  {
   "cell_type": "markdown",
   "metadata": {
    "id": "9HlIb0f-ziNb"
   },
   "source": [
    "#### 2.2.2. Таблица heroes"
   ]
  },
  {
   "cell_type": "code",
   "execution_count": null,
   "metadata": {
    "id": "INFF8S4KoWwu"
   },
   "outputs": [],
   "source": [
    "# profile_heroes = ProfileReport(heroes, title='heroes_Отчет')\n",
    "# # profile_heroes.to_file(\"heroes_Отчет.html\")\n",
    "# profile_heroes"
   ]
  },
  {
   "cell_type": "markdown",
   "metadata": {
    "id": "08yVmMORzqM7"
   },
   "source": [
    "**Предварительный вывод по 2.2.2**\n",
    "* пропуски(63.1%) в колонке turn_rate можно игнорировать, так как сильно на исследование не повлияет\n",
    "* таблица героев - это в целом библиотека героев с начальными характеристиками, можно удалить все дубликаты, всего 124 уникальных героя\n",
    "* типы данны соответствуют данным, колонки названны корректно, предварительная обработка не требуется\n"
   ]
  },
  {
   "cell_type": "code",
   "execution_count": null,
   "metadata": {
    "colab": {
     "base_uri": "https://localhost:8080/"
    },
    "id": "9HUPmMNcQp7d",
    "outputId": "49cdbe6a-2b59-4068-a6fa-d0ff5b5bba5c"
   },
   "outputs": [],
   "source": [
    "# удаление явных полных дубликатов\n",
    "heroes = heroes.drop_duplicates()\n",
    "heroes.info()"
   ]
  },
  {
   "cell_type": "code",
   "execution_count": null,
   "metadata": {
    "colab": {
     "base_uri": "https://localhost:8080/",
     "height": 206
    },
    "id": "hzhukwDANnpT",
    "outputId": "4ac424fc-bc1f-4b93-bdec-79af547e2281"
   },
   "outputs": [],
   "source": [
    "# Подготовка таблицы к объединению\n",
    "heroes_new = heroes[['hero_id', 'localized_name','attack_type', 'primary_attr', 'roles']]\n",
    "heroes_new.head()"
   ]
  },
  {
   "cell_type": "markdown",
   "metadata": {
    "id": "DmJotwvDznbP"
   },
   "source": [
    "#### 2.2.3. Таблица matches"
   ]
  },
  {
   "cell_type": "code",
   "execution_count": null,
   "metadata": {
    "id": "srMep_M0oYUD"
   },
   "outputs": [],
   "source": [
    "# profile_matches = ProfileReport(matches, title='matches_Отчет')\n",
    "# # profile_matches.to_file(\"matches_Отчет.html\")\n",
    "# profile_matches"
   ]
  },
  {
   "cell_type": "markdown",
   "metadata": {
    "id": "BTJKKK4x5cwl"
   },
   "source": [
    "**Предварительный вывод по 2.2.3**\n",
    "* Фракция Света победила в 50,7% игр, фракция Тьмы соответственно в 49.3%. То есть практически поровну\n",
    "* все строки уникальны, то есть перед нами 1802 матча\n",
    "* учитывая, что в таблице players 18020, то скорее всего в каждом матче по 10 игроков (5+5)\n",
    "* в основном матчи длительностью ~20-60 мин,\n",
    "* самая короткая игра: 7.3 мин, самая длинная игра: 78.8 мин\n",
    "* в основном в матчах первое убийство отмечено в 0 секунду, как следует из правил, убийство могло произойти в первые 130 секунд, после которых начинается отсчет времени матча\n",
    "* типы данных соответствуют данным, колонки названны корректно, предварительная обработка не требуется\n"
   ]
  },
  {
   "cell_type": "markdown",
   "metadata": {
    "id": "XbmcEa4v4G5z"
   },
   "source": [
    "### 2.3. Объединение данных и исследовательский анализ"
   ]
  },
  {
   "cell_type": "code",
   "execution_count": null,
   "metadata": {
    "colab": {
     "base_uri": "https://localhost:8080/"
    },
    "id": "ve1H7oNu3_8s",
    "outputId": "8ac9317c-ce09-4b4b-bec6-7d83aa49ded1"
   },
   "outputs": [],
   "source": [
    "# проверим, можно ли объединить таблицы игроков и матчей\n",
    "if players['match_id'].nunique() == matches.shape[0]:\n",
    "    print('Количество уникальных матчей в таблицах players и matches \\\n",
    "совпадают, значит можно объединять эти таблиц по полю match_id ')\n",
    "else:\n",
    "    print('Количество уникальных матчей в таблицах players и \\\n",
    "matches не совпадают')"
   ]
  },
  {
   "cell_type": "code",
   "execution_count": null,
   "metadata": {
    "colab": {
     "base_uri": "https://localhost:8080/",
     "height": 504
    },
    "id": "zIi1SoqC4bNM",
    "outputId": "8f69db0e-3d11-4edc-8888-d41ea6cdd81f"
   },
   "outputs": [],
   "source": [
    "# объединение таблиц players и matches\n",
    "data = (\n",
    "    players.drop(['player_slot'], axis=1)\n",
    "    .merge(matches.drop('radiant_win', axis=1), on='match_id', how='left')\n",
    ")\n",
    "data = data.merge(heroes_new, on='hero_id', how='left')\n",
    "data.head()"
   ]
  },
  {
   "cell_type": "code",
   "execution_count": null,
   "metadata": {
    "colab": {
     "base_uri": "https://localhost:8080/",
     "height": 660
    },
    "id": "YoCWhfBRuZlP",
    "outputId": "a4eb1990-cb3d-4d4b-ba4a-f5983ffe6a09"
   },
   "outputs": [],
   "source": [
    "# соединяем items в одну колонку\n",
    "\n",
    "data['items'] = data[[col for col in data.columns if 'item' in col]].values.tolist()\n",
    "data.head()"
   ]
  },
  {
   "cell_type": "code",
   "execution_count": null,
   "metadata": {
    "colab": {
     "base_uri": "https://localhost:8080/",
     "height": 660
    },
    "id": "w5yTCNpUoS4Q",
    "outputId": "8cddab77-60ff-4cd9-b24a-77e9205402af"
   },
   "outputs": [],
   "source": [
    "# приведение строк столбца roles к нижнему регистру\n",
    "data['roles'] = data['roles'].str.lower()\n",
    "# список ролей:\n",
    "roles_list = ['support', 'nuker', 'escape', 'disabler',\n",
    "                'carry', 'pusher', 'initiator', 'durable', 'escape', ]\n",
    "# разбивка ролей по столбцам\n",
    "for i in range(0, len(roles_list)):\n",
    "    data.loc[data['roles'].str.find(roles_list[i]) != -1, roles_list[i]] = 1\n",
    "for i in roles_list:\n",
    "    data[i] = data[i].fillna(0)\n",
    "\n",
    "# удаление лишних столбцов\n",
    "data = data.drop(['item_0', 'item_1', 'item_2', 'item_3',\n",
    "                  'item_4', 'item_5', 'roles'], axis=1)\n",
    "\n",
    "data.head()"
   ]
  },
  {
   "cell_type": "markdown",
   "metadata": {
    "id": "kl_3cHnjgPO8"
   },
   "source": [
    "#### 2.3.1. Влияет ли средний процент побед игроков в команде на победу команды"
   ]
  },
  {
   "cell_type": "code",
   "execution_count": null,
   "metadata": {
    "colab": {
     "base_uri": "https://localhost:8080/"
    },
    "id": "KGKrjcxVVPxf",
    "outputId": "8e48a8f1-4ad5-44a1-d5da-c6814e340758"
   },
   "outputs": [],
   "source": [
    "matches.shape[0]"
   ]
  },
  {
   "cell_type": "code",
   "execution_count": null,
   "metadata": {
    "colab": {
     "base_uri": "https://localhost:8080/",
     "height": 660
    },
    "id": "kCQ8zwmugkJh",
    "outputId": "d328914e-9128-4ba5-f0d7-65ef9c781b22"
   },
   "outputs": [],
   "source": [
    "# добавление колонки с процентами побед игрока\n",
    "data['rate_win'] = data.groupby('steam_id')['win'].transform('mean')\n",
    "data.head()"
   ]
  },
  {
   "cell_type": "code",
   "execution_count": null,
   "metadata": {
    "colab": {
     "base_uri": "https://localhost:8080/",
     "height": 226
    },
    "id": "oOD_SViV5Cld",
    "outputId": "10e90fe3-d974-486e-fcaa-bf2dc9101dfb"
   },
   "outputs": [],
   "source": [
    "# таблица по матчам и командам(победители/ проигравшие)\n",
    "match_group = match_data(data)\n",
    "match_group.head()"
   ]
  },
  {
   "cell_type": "markdown",
   "metadata": {
    "id": "LOprnFt4xKnw"
   },
   "source": [
    "#### 2.3.1.A Есть ли корреляция между параметрами игроков/команды и победой"
   ]
  },
  {
   "cell_type": "code",
   "execution_count": null,
   "metadata": {
    "colab": {
     "base_uri": "https://localhost:8080/",
     "height": 607
    },
    "id": "09QZ0WOZ24Wv",
    "outputId": "446e91c0-b08e-491a-8907-8e7bc4bad690"
   },
   "outputs": [],
   "source": [
    "plt.figure(figsize=(6,6))\n",
    "ax1 = plt.subplot(1,2,1)\n",
    "sns.heatmap(data.drop(['match_id', 'steam_id','personaname', 'hero_id',\n",
    "                       'region', 'localized_name', 'attack_type',\n",
    "                       'primary_attr', 'items'], axis=1)\n",
    "                .corr(method='pearson')[['win']],\n",
    "            annot=True,\n",
    "            vmin=-.1,\n",
    "            center=.4,\n",
    "            fmt='.2f',\n",
    "            cbar=False,\n",
    "            linewidth=.5,\n",
    "            cmap='Blues')\n",
    "plt.title('Корреляция признаков игроков\\n с победой')\n",
    "\n",
    "ax2 = plt.subplot(1,2,2)\n",
    "sns.heatmap(match_group.drop(['match_id', 'is_radiant'], axis=1)\n",
    "                       .corr(method='pearson')[['win']],\n",
    "            annot=True,\n",
    "            vmin=-.1,\n",
    "            center=.4,\n",
    "            fmt='.2f',\n",
    "            cbar=False,\n",
    "            linewidth=.5,\n",
    "            cmap='Blues')\n",
    "plt.title('Корреляция признаков команд\\n с победой')\n",
    "plt.tight_layout()\n",
    "plt.show();"
   ]
  },
  {
   "cell_type": "markdown",
   "metadata": {
    "id": "I3fhZej-58EM"
   },
   "source": [
    "**Промежуточный вывод по 2.3.1 и 2.3.1А**\n",
    "* видна сильная корреляция игроков с победой следующих признаков в порядке убывания:\n",
    "  - assists\n",
    "  - deaths(обратная)\n",
    "  - tower_damage_per_min\n",
    "  - xp_per_min\n",
    "  - kills_per_min\n",
    "  - gold_per_min\n",
    "  - kills\n",
    "* при сравнении значений корреляции признаков по отдельным гигрокам и командным, можно заметить, что суммарные признаки коррелируют с победой значительно сильнее, что говорит о том, что **dota2 - это командная игра**\n",
    "* в итоге с победой сильно коррелируют в порядке убывания:  \n",
    " - tower_damage_per_min,\n",
    " - gold_per_min,\n",
    " - kills_per_min,\n",
    " - kills,\n",
    " - xp_per_min,\n",
    " - assists  \n",
    " - deaths(обратная)\n",
    "* корреляция среднего процента выигрыша игроков команды с выигрышем команды слабая"
   ]
  },
  {
   "cell_type": "markdown",
   "metadata": {
    "id": "Tpov_8ns934F"
   },
   "source": [
    "#### 2.3.2. Топ-10 игроков"
   ]
  },
  {
   "cell_type": "code",
   "execution_count": null,
   "metadata": {
    "colab": {
     "base_uri": "https://localhost:8080/",
     "height": 484
    },
    "id": "EF6I9D_fAxlJ",
    "outputId": "b7cc4f1d-82f0-4fba-a010-7ce0948ba149"
   },
   "outputs": [],
   "source": [
    "# построим гистограмму распределения количества матчей по игрокам\n",
    "match_per_player = data.groupby('steam_id', as_index=False).agg({'personaname':'first','win':'sum', 'match_id':'count'}).sort_values(by='match_id', ascending=False)\n",
    "match_per_player['win_rate'] = match_per_player['win'] / match_per_player['match_id']\n",
    "match_per_player['match_id'].hist(bins=15);"
   ]
  },
  {
   "cell_type": "code",
   "execution_count": null,
   "metadata": {
    "colab": {
     "base_uri": "https://localhost:8080/",
     "height": 363
    },
    "id": "aMbUjeDNGLhO",
    "outputId": "616de5ce-732c-4055-d8e9-9243c0b23dae"
   },
   "outputs": [],
   "source": [
    "# найдем топовых игроков среди игроков, кто сыграл > 40 игр\n",
    "match_per_player_40 = match_per_player.query('match_id > 40').sort_values(by='win_rate', ascending=False).head(10)\n",
    "match_per_player_40"
   ]
  },
  {
   "cell_type": "code",
   "execution_count": null,
   "metadata": {
    "colab": {
     "base_uri": "https://localhost:8080/",
     "height": 332
    },
    "id": "YPhYs2ujLOGh",
    "outputId": "ca2e0cef-8f58-44cf-f095-5f54fa888277"
   },
   "outputs": [],
   "source": [
    "plt.figure(figsize=(5,3))\n",
    "sns.barplot(data=match_per_player_40.head(10),\n",
    "            y=match_per_player_40.head(10).personaname,\n",
    "            x='win_rate',)\n",
    "plt.title(f'Топ-10 игроков по % побед')\n",
    "plt.xlabel('Идентификатор игрока')\n",
    "plt.ylabel(f'% побед от {match_per_player_40[\"match_id\"].sum() / 10} игр')\n",
    "#plt.xticks(rotation=70)\n",
    "plt.show();"
   ]
  },
  {
   "cell_type": "markdown",
   "metadata": {
    "id": "A4dw9vmtQM7T"
   },
   "source": [
    "**Промежуточный вывод по 2.3.2**\n",
    "* Лидером является игрок **mitokiromi** — 75,5% игр выигрышные\n",
    "* на 2-м и 3-м месте **satori**(74,6%) и **if you not rank100dont talkto me**(73,9%)"
   ]
  },
  {
   "cell_type": "code",
   "execution_count": null,
   "metadata": {
    "colab": {
     "base_uri": "https://localhost:8080/"
    },
    "id": "e-cTvc6PQ-UN",
    "outputId": "687134d7-dae1-46c7-d9e1-d896d71cbeee"
   },
   "outputs": [],
   "source": [
    "top_players_matches = (\n",
    "    match_data(data.query('steam_id in @match_per_player_40.steam_id'))\n",
    ")\n",
    "top_players_matches['top_player'] = 1\n",
    "print(f'Количество матчей, где участвуют\\\n",
    " 10 топовых игроков: {top_players_matches[\"match_id\"].nunique()}')"
   ]
  },
  {
   "cell_type": "code",
   "execution_count": null,
   "metadata": {
    "colab": {
     "base_uri": "https://localhost:8080/"
    },
    "id": "1ILeIzO7TpRi",
    "outputId": "4b4c9718-188d-4e62-d9f3-d8556ce89fd6"
   },
   "outputs": [],
   "source": [
    "not_top_players_matches = (\n",
    "    match_data(data.query('match_id not in @top_players_matches.match_id'))\n",
    ")\n",
    "not_top_players_matches['top_player'] = 0\n",
    "print(f'Количество матчей, где не участвуют\\\n",
    " 10 топовых игроков: {not_top_players_matches[\"match_id\"].nunique()}')"
   ]
  },
  {
   "cell_type": "code",
   "execution_count": null,
   "metadata": {
    "colab": {
     "base_uri": "https://localhost:8080/",
     "height": 1000
    },
    "id": "l54dDLdoVU8F",
    "outputId": "845e90f6-ac8a-4b0c-a4ba-b7d6ec9b3845"
   },
   "outputs": [],
   "source": [
    "col_list = ['assists', 'deaths', 'denies', 'gold_per_min',\n",
    "       'kills', 'xp_per_min', 'kills_per_min', 'last_hits_per_min',\n",
    "       'hero_damage_per_min', 'hero_healing_per_min', 'tower_damage_per_min',\n",
    "       'support', 'nuker', 'escape', 'disabler', 'carry', 'pusher',\n",
    "       'initiator', 'durable', 'duration', 'first_blood_time', 'is_radiant',]\n",
    "for i in col_list:\n",
    "    plot_top_bot(top_players_matches, not_top_players_matches, i)"
   ]
  },
  {
   "cell_type": "markdown",
   "metadata": {
    "id": "maLxtmWTflU4"
   },
   "source": [
    "**Промежуточный вывод по 2.3.2**\n",
    "* странно, но все характеристики матчей с топами смещены влево относительно характеристик матчей без топов. Возможно потому что топы стараются максимально быстро матчи закончить, либо там высокий процент убийства собственных мобов и меньше убийств игроков - поэтому меньше золота и опыта"
   ]
  },
  {
   "cell_type": "markdown",
   "metadata": {
    "id": "5BeOAUxuYg-x"
   },
   "source": [
    "#### 2.3.3. Распределения **команд** по числовым характеристикам с разбивкой на победителей и проигравших, а также средние характеристики **команды** в зависимости от длительности игры"
   ]
  },
  {
   "cell_type": "markdown",
   "metadata": {
    "id": "kOUD1_vUP5fs"
   },
   "source": [
    "**Сначала разделим таблицу на команды победителей и проигравших**"
   ]
  },
  {
   "cell_type": "code",
   "execution_count": null,
   "metadata": {
    "colab": {
     "base_uri": "https://localhost:8080/",
     "height": 226
    },
    "id": "ohM7bYUoaQct",
    "outputId": "c8246b24-83a6-4c7e-db68-59ed84b349e1"
   },
   "outputs": [],
   "source": [
    "# таблица команд победителей\n",
    "match_win = match_group.query('win == 1')\n",
    "match_win.head()"
   ]
  },
  {
   "cell_type": "markdown",
   "metadata": {
    "id": "cZIROOd6RB6W"
   },
   "source": [
    "**Строим распределения**"
   ]
  },
  {
   "cell_type": "code",
   "execution_count": null,
   "metadata": {
    "colab": {
     "base_uri": "https://localhost:8080/",
     "height": 226
    },
    "id": "RqyESwlOagy4",
    "outputId": "66a551aa-4036-4b4c-e047-9d730d6af656"
   },
   "outputs": [],
   "source": [
    "# таблица команд проигравших\n",
    "match_lose = match_group.query('win == 0')\n",
    "match_lose.head()"
   ]
  },
  {
   "cell_type": "code",
   "execution_count": null,
   "metadata": {
    "colab": {
     "base_uri": "https://localhost:8080/",
     "height": 307
    },
    "id": "-SWQaNQRbl5x",
    "outputId": "106d983d-283b-4cb2-f706-25d769ed33e9"
   },
   "outputs": [],
   "source": [
    "plot_distplot_scatter_hue(match_group,\n",
    "                          match_win,\n",
    "                          match_lose,\n",
    "                          'assists',\n",
    "                          'win')"
   ]
  },
  {
   "cell_type": "markdown",
   "metadata": {
    "id": "CtACLuytgWpO"
   },
   "source": [
    "**Промежуточный вывод по параметру assists**\n",
    "* команды победителей больше помогают при убийствах, чем команды проигравших\n",
    "* также с увеличеним длительности матча параметр assists закономерно растет"
   ]
  },
  {
   "cell_type": "code",
   "execution_count": null,
   "metadata": {
    "colab": {
     "base_uri": "https://localhost:8080/",
     "height": 307
    },
    "id": "E42Q-ZI9ewWd",
    "outputId": "1494e7c1-c1ad-4228-bfaa-d761c93a4ae2"
   },
   "outputs": [],
   "source": [
    "plot_distplot_scatter_hue(match_group,\n",
    "                          match_win,\n",
    "                          match_lose,\n",
    "                          'deaths',\n",
    "                          'win')"
   ]
  },
  {
   "cell_type": "markdown",
   "metadata": {
    "id": "hX_Jc-bziSgD"
   },
   "source": [
    "**Промежуточный вывод по параметру deaths**\n",
    "* команды победителей меньше умирают, чем команды проигравших\n",
    "* а с увеличеним длительности матчей параметр deaths закономерно растет"
   ]
  },
  {
   "cell_type": "code",
   "execution_count": null,
   "metadata": {
    "colab": {
     "base_uri": "https://localhost:8080/",
     "height": 307
    },
    "id": "pKvz0nGPhhSO",
    "outputId": "0552852e-9461-4934-d091-7d31ea16b448"
   },
   "outputs": [],
   "source": [
    "plot_distplot_scatter_hue(match_group,\n",
    "                          match_win,\n",
    "                          match_lose,\n",
    "                          'denies',\n",
    "                          'win')"
   ]
  },
  {
   "cell_type": "markdown",
   "metadata": {
    "id": "zMWYhzi-i3Xt"
   },
   "source": [
    "**Промежуточный вывод по параметру denies**\n",
    "* победители не сильно отличаются от проигравши при убийствах собственных мобов, проиравшие лишь немного больше заняты собственными мобами, чем победители\n",
    "* количество убийств собственных мобов не зависит от длительности матча"
   ]
  },
  {
   "cell_type": "code",
   "execution_count": null,
   "metadata": {
    "colab": {
     "base_uri": "https://localhost:8080/",
     "height": 307
    },
    "id": "jqVcM7awhheu",
    "outputId": "46b8166f-e88e-4ac8-b196-d8b568b9cfe6"
   },
   "outputs": [],
   "source": [
    "plot_distplot_scatter_hue(match_group,\n",
    "                          match_win,\n",
    "                          match_lose,\n",
    "                          'kills',\n",
    "                          'win')"
   ]
  },
  {
   "cell_type": "markdown",
   "metadata": {
    "id": "EgXCJFl6jiuW"
   },
   "source": [
    "**Промежуточный вывод по параметру kills**\n",
    "* у команд победителей больше убийств, чем у проигравших\n",
    "* также с увеличеним длительности матча параметр kills закономерно растет"
   ]
  },
  {
   "cell_type": "code",
   "execution_count": null,
   "metadata": {
    "colab": {
     "base_uri": "https://localhost:8080/",
     "height": 307
    },
    "id": "MpsJsn3Chhwl",
    "outputId": "f80a8b8a-449b-49c2-91d7-28818e011103"
   },
   "outputs": [],
   "source": [
    "plot_distplot_scatter_hue(match_group,\n",
    "                          match_win,\n",
    "                          match_lose,\n",
    "                          'gold_per_min',\n",
    "                          'win')"
   ]
  },
  {
   "cell_type": "markdown",
   "metadata": {
    "id": "XF51pJQzo7th"
   },
   "source": [
    "**Промежуточный вывод по параметру gold_per_min**\n",
    "* команды победителей больше фармят золота, чем проигравшие\n",
    "* причем не зависимо от длительности игры, практически все команды победителей по этому параметру выигрывают, с увеличеним длительности игры от 50-60 минут, золото фармят быстрее"
   ]
  },
  {
   "cell_type": "code",
   "execution_count": null,
   "metadata": {
    "colab": {
     "base_uri": "https://localhost:8080/",
     "height": 307
    },
    "id": "HN1Crju5hvko",
    "outputId": "69a2d0aa-1fbe-4e19-d268-6cfb702a3ff7"
   },
   "outputs": [],
   "source": [
    "plot_distplot_scatter_hue(match_group,\n",
    "                          match_win,\n",
    "                          match_lose,\n",
    "                          'xp_per_min',\n",
    "                          'win')"
   ]
  },
  {
   "cell_type": "markdown",
   "metadata": {
    "id": "fJKCV_Nmp4nH"
   },
   "source": [
    "**Промежуточный вывод по параметру xp_per_min**\n",
    "* команды победителей сильно в отрыве по увеличению опыта от проигравших\n",
    "* чем дольше игра, тем команда больше набирает опыта, что логично. При длительности игры от 50-60 минут, опыт уже не сильно растет"
   ]
  },
  {
   "cell_type": "code",
   "execution_count": null,
   "metadata": {
    "colab": {
     "base_uri": "https://localhost:8080/",
     "height": 307
    },
    "id": "4KbueKVohvwZ",
    "outputId": "1d1c8f05-54c0-4b84-99fa-4bdfa1f61bb1"
   },
   "outputs": [],
   "source": [
    "plot_distplot_scatter_hue(match_group,\n",
    "                          match_win,\n",
    "                          match_lose,\n",
    "                          'kills_per_min',\n",
    "                          'win')"
   ]
  },
  {
   "cell_type": "markdown",
   "metadata": {
    "id": "xp3NC6siqcnG"
   },
   "source": [
    "**Промежуточный вывод по параметру kills_per_min**\n",
    "* команды победителей больше убивают за минуту, чем проигравшие\n",
    "* чем дольше игра, тем убийств в минуту меньше, ведь цель игры в уничтожении башен, а убийства нужны для увеличения опыта игроков"
   ]
  },
  {
   "cell_type": "code",
   "execution_count": null,
   "metadata": {
    "colab": {
     "base_uri": "https://localhost:8080/",
     "height": 307
    },
    "id": "eGY-xu4bhv-E",
    "outputId": "914d24b7-2f0a-412b-8aae-3cf91571ed4a"
   },
   "outputs": [],
   "source": [
    "plot_distplot_scatter_hue(match_group,\n",
    "                          match_win,\n",
    "                          match_lose,\n",
    "                          'last_hits_per_min',\n",
    "                          'win')"
   ]
  },
  {
   "cell_type": "markdown",
   "metadata": {
    "id": "48GfwsmArFVg"
   },
   "source": [
    "**Промежуточный вывод по параметру last_hits_per_min**\n",
    "* распределения проигравших и победителей по последнему удару в минуту не сильно отличаются друг от друга\n",
    "* с увеличеним длительности игры от 40 минт данный параметр становится выше"
   ]
  },
  {
   "cell_type": "code",
   "execution_count": null,
   "metadata": {
    "colab": {
     "base_uri": "https://localhost:8080/",
     "height": 307
    },
    "id": "x9I2_6tehwH9",
    "outputId": "1727bd94-6305-445b-e646-12fa07d083e3"
   },
   "outputs": [],
   "source": [
    "plot_distplot_scatter_hue(match_group,\n",
    "                          match_win,\n",
    "                          match_lose,\n",
    "                          'hero_damage_per_min',\n",
    "                          'win')"
   ]
  },
  {
   "cell_type": "markdown",
   "metadata": {
    "id": "Yjp5Hp5-sXhh"
   },
   "source": [
    "**Промежуточный вывод по параметру hero_damage_per_min**\n",
    "* победители более рисковые ребята, их игроки больше получают ранений, чем проигравшие\n",
    "* с увеличеним длительности игры ранения героев в минуту не сильно меняются"
   ]
  },
  {
   "cell_type": "code",
   "execution_count": null,
   "metadata": {
    "colab": {
     "base_uri": "https://localhost:8080/",
     "height": 307
    },
    "id": "Kg3QoSPXtkci",
    "outputId": "bd70ba43-06bb-4451-b621-4082d98789b2"
   },
   "outputs": [],
   "source": [
    "plot_distplot_scatter_hue(match_group,\n",
    "                          match_win,\n",
    "                          match_lose,\n",
    "                          'hero_healing_per_min',\n",
    "                          'win')"
   ]
  },
  {
   "cell_type": "markdown",
   "metadata": {
    "id": "dyqsWMYDtkcj"
   },
   "source": [
    "**Промежуточный вывод по параметру hero_healing_per_min**\n",
    "* как я поняла, у победителей больше героев со способностями лечения, чем у проигравших\n",
    "* с увеличеним длительности игры этот параметр не сильно меняется, все зависит от стратегии"
   ]
  },
  {
   "cell_type": "code",
   "execution_count": null,
   "metadata": {
    "colab": {
     "base_uri": "https://localhost:8080/",
     "height": 307
    },
    "id": "PyJ1GNv8h_tX",
    "outputId": "6e2cc1ca-22a2-4883-eab4-ec448ca39a68"
   },
   "outputs": [],
   "source": [
    "plot_distplot_scatter_hue(match_group,\n",
    "                          match_win,\n",
    "                          match_lose,\n",
    "                          'tower_damage_per_min',\n",
    "                          'win')"
   ]
  },
  {
   "cell_type": "markdown",
   "metadata": {
    "id": "lkImDDsos1Ym"
   },
   "source": [
    "**Промежуточный вывод по параметру hero_damage_per_min**\n",
    "* так как цель игры: уничтожить башню с троном, то соответсвенно tower_damage_per_min ключевой параметр, и у победителей он значительно выше, чем у проигравших\n",
    "* с увеличеним длительности игры данный параметр снижается, наверное, потому что часть башен уже порушена и рушить нечего"
   ]
  },
  {
   "cell_type": "markdown",
   "metadata": {
    "id": "WDMDSXTycGcc"
   },
   "source": [
    "**Общее для всех графиков 2.3.3.**\n",
    "* можно заметить, что распределение числовых параметров зависят от длительности игры. Поэтому есть смысл рассмотреть разрезы характеристик по времени игр(<~20мин, от 20 до 50 мин, >50 мин). Проверим корреляцию между числовыми характеристиками"
   ]
  },
  {
   "cell_type": "markdown",
   "metadata": {
    "id": "FCq24p4JaI0R"
   },
   "source": [
    "#### 2.3.4. Кореляция между числовыми характеристиками в зависимости от длительности игры"
   ]
  },
  {
   "cell_type": "code",
   "execution_count": null,
   "metadata": {
    "colab": {
     "base_uri": "https://localhost:8080/",
     "height": 244
    },
    "id": "TKeQ-r96uo26",
    "outputId": "435ede9b-b430-4157-ecd0-3c6b400acc62"
   },
   "outputs": [],
   "source": [
    "match_20 = match_group.query('duration <= 20')\n",
    "print(f'Количество игр длительностью <=20 минут:\\\n",
    "{match_20[\"match_id\"].nunique()} игр из {match_group[\"match_id\"].nunique()}, \\\n",
    "{round(match_20[\"match_id\"].nunique() / match_group[\"match_id\"].nunique(), 4) * 100} %')\n",
    "match_20 = match_20.drop(['match_id', 'is_radiant'], axis=1)\n",
    "match_20.head()"
   ]
  },
  {
   "cell_type": "code",
   "execution_count": null,
   "metadata": {
    "colab": {
     "base_uri": "https://localhost:8080/",
     "height": 244
    },
    "id": "40hCZAKd14Gs",
    "outputId": "a32817b4-6775-4a31-a031-f5a68f77a7d8"
   },
   "outputs": [],
   "source": [
    "match_20_50 = match_group.query('duration > 20 and duration <=50')\n",
    "print(f'Количество игр длительностью от 20 до 50 минут:\\\n",
    "{match_20_50[\"match_id\"].nunique()} игр из {match_group[\"match_id\"].nunique()}, \\\n",
    "{round(match_20_50[\"match_id\"].nunique() / match_group[\"match_id\"].nunique(), 4) * 100} %')\n",
    "match_20_50 = match_20_50.drop(['match_id', 'is_radiant'], axis=1)\n",
    "match_20_50.head()"
   ]
  },
  {
   "cell_type": "code",
   "execution_count": null,
   "metadata": {
    "colab": {
     "base_uri": "https://localhost:8080/",
     "height": 244
    },
    "id": "QIMQwsT62mK4",
    "outputId": "fb861d6e-b19e-4ad3-add2-f2354f2c2b09"
   },
   "outputs": [],
   "source": [
    "match_50 = match_group.query('duration > 50')\n",
    "print(f'Количество игр длительностью от 50 минут:\\\n",
    "{match_50[\"match_id\"].nunique()} игр из {match_group[\"match_id\"].nunique()}, \\\n",
    "{round(match_50[\"match_id\"].nunique() / match_group[\"match_id\"].nunique(), 4) * 100} %')\n",
    "match_50 = match_50.drop(['match_id', 'is_radiant'], axis=1)\n",
    "match_50.head()"
   ]
  },
  {
   "cell_type": "code",
   "execution_count": null,
   "metadata": {
    "colab": {
     "base_uri": "https://localhost:8080/",
     "height": 607
    },
    "id": "itGJ_TipbxN1",
    "outputId": "710b19ee-59dc-4e74-8ae1-8edf7d6b3d58"
   },
   "outputs": [],
   "source": [
    "plt.figure(figsize=(10,6))\n",
    "ax1 = plt.subplot(1,3,1)\n",
    "sns.heatmap(match_20.corr(method='pearson')[['win']],\n",
    "            annot=True,\n",
    "            vmin=-.1,\n",
    "            center=.4,\n",
    "            fmt='.2f',\n",
    "            cbar=False,\n",
    "            linewidth=.5,\n",
    "            cmap='Blues')\n",
    "plt.title('Корреляция признаков с победой\\nигры до 20 мин\\n')\n",
    "\n",
    "ax2 = plt.subplot(1,3,2)\n",
    "sns.heatmap(match_20_50.corr(method='pearson')[['win']],\n",
    "            annot=True,\n",
    "            vmin=-.1,\n",
    "            center=.4,\n",
    "            fmt='.2f',\n",
    "            cbar=False,\n",
    "            linewidth=.5,\n",
    "            cmap='Blues')\n",
    "plt.title('Корреляция признаков с победой\\nигры от 20 до 50 мин\\n')\n",
    "\n",
    "ax2 = plt.subplot(1,3,3)\n",
    "sns.heatmap(match_50.corr(method='pearson')[['win']],\n",
    "            annot=True,\n",
    "            vmin=-.1,\n",
    "            center=.4,\n",
    "            fmt='.2f',\n",
    "            cbar=False,\n",
    "            linewidth=.5,\n",
    "            cmap='Blues')\n",
    "plt.title('Корреляция признаков с победой\\nигры от 50 мин\\n')\n",
    "\n",
    "plt.tight_layout()\n",
    "plt.show();"
   ]
  },
  {
   "cell_type": "markdown",
   "metadata": {
    "id": "aItlNyC3gSjO"
   },
   "source": [
    "**Промежуточный вывод по 2.3.4** видно, что в зависимости от длительности игры с победой коррелируют разные признаки\n",
    "* например, процент побед игроков важнее в коротких играх, чем в длинных\n",
    "* роль carry выстреливает только в длинных играх, так как все начальное время такие герои просто фармят золото и опыт для длинной игры\n",
    "* в коротких играх роли support, pusher и durable сильнее коррелируют с победой, чем в остальных играх\n",
    "* количество смертей начинает сильнее коррелировать с победой именно в длинных играх, так как мы помним про carry с их золотом\n",
    "* про союзных мобов в длинных играх можно забыть, навреное, они уже  все убиты к этому времени\n",
    "* в коротки играх важнее сразу начать убивать вражеских героев, с увеличением длительности игры степень корреляции падает"
   ]
  },
  {
   "cell_type": "markdown",
   "metadata": {
    "id": "l31bubVdE4I5"
   },
   "source": [
    "#### 2.3.5. Топ-10 предметов, которые чаще всего выбирают"
   ]
  },
  {
   "cell_type": "markdown",
   "metadata": {
    "id": "Xa20uuUdbHYY"
   },
   "source": [
    "**новый дф для предметов**"
   ]
  },
  {
   "cell_type": "code",
   "execution_count": null,
   "metadata": {
    "colab": {
     "base_uri": "https://localhost:8080/",
     "height": 206
    },
    "id": "6JxtQcsGM_MU",
    "outputId": "920fa71c-7902-414a-9d68-1b88cb420642"
   },
   "outputs": [],
   "source": [
    "data_items = data[['match_id', 'win', 'items']]\n",
    "data_items.head()"
   ]
  },
  {
   "cell_type": "code",
   "execution_count": null,
   "metadata": {
    "id": "pai5xsUTcbBz"
   },
   "outputs": [],
   "source": [
    "items_win = data_items.query('win == 1')\n",
    "items_lose = data_items.query('win == 0')"
   ]
  },
  {
   "cell_type": "code",
   "execution_count": null,
   "metadata": {
    "id": "TdxP040md1_j"
   },
   "outputs": [],
   "source": [
    "# создаем список всех предметов каждого игрока команд победителей\n",
    "list_win_items = []\n",
    "for i in items_win['items']:\n",
    "    for j in i:\n",
    "        list_win_items.append(j)"
   ]
  },
  {
   "cell_type": "code",
   "execution_count": null,
   "metadata": {
    "id": "2ToVWNVueXRJ"
   },
   "outputs": [],
   "source": [
    "# создаем список всех предметов каждого игрока проигравших команд\n",
    "list_lose_items = []\n",
    "for i in items_lose['items']:\n",
    "    for j in i:\n",
    "        list_lose_items.append(j)"
   ]
  },
  {
   "cell_type": "code",
   "execution_count": null,
   "metadata": {
    "colab": {
     "base_uri": "https://localhost:8080/",
     "height": 424
    },
    "id": "-XGItKXFegeV",
    "outputId": "424d8b59-7c11-47dc-8cb4-6e817e308f48"
   },
   "outputs": [],
   "source": [
    "# считаем количество уникальных предметов у победителей\n",
    "sum_win_items = (\n",
    "    pd.DataFrame.from_dict(dict(Counter(list_win_items).most_common()),\n",
    "                           orient='index')\n",
    "    .reset_index().rename(columns={'index':'items', 0:'win_count'})\n",
    ")\n",
    "sum_win_items"
   ]
  },
  {
   "cell_type": "code",
   "execution_count": null,
   "metadata": {
    "colab": {
     "base_uri": "https://localhost:8080/",
     "height": 424
    },
    "id": "1bgNXexlgIfa",
    "outputId": "273d3478-ba33-4f35-bc6b-32d58fe06d7d"
   },
   "outputs": [],
   "source": [
    "# считаем количество уникальных предметов у проигравших\n",
    "sum_lose_items = (\n",
    "    pd.DataFrame.from_dict(dict(Counter(list_lose_items).most_common()),\n",
    "                           orient='index')\n",
    "    .reset_index().rename(columns={'index':'items', 0:'lose_count'})\n",
    ")\n",
    "sum_lose_items"
   ]
  },
  {
   "cell_type": "code",
   "execution_count": null,
   "metadata": {
    "colab": {
     "base_uri": "https://localhost:8080/",
     "height": 380
    },
    "id": "pnlHkC7JhVzI",
    "outputId": "d5481a0e-818a-43e2-a22a-196c270d527f"
   },
   "outputs": [],
   "source": [
    "# объединяем дф предметов победителей и проигравших\n",
    "t_items = sum_win_items.merge(sum_lose_items, on='items')\n",
    "t_items['total'] = t_items['win_count'] + t_items['lose_count']\n",
    "t_items['diff_w_l'] = (\n",
    "    round(((t_items['win_count'] - t_items['lose_count']) / t_items['total']), 2)\n",
    ")\n",
    "print('Топ-10 предметов, которые есть и у победителей, и у проигравших')\n",
    "t_items.head(10)"
   ]
  },
  {
   "cell_type": "code",
   "execution_count": null,
   "metadata": {
    "colab": {
     "base_uri": "https://localhost:8080/",
     "height": 525
    },
    "id": "aaH46U0WrB7d",
    "outputId": "3706e021-8ec7-4ff7-f25b-37a9da7dac75"
   },
   "outputs": [],
   "source": [
    "x = np.arange(1,11)\n",
    "labels = t_items.head(10)['items']\n",
    "w = 0.25\n",
    "fig, ax = plt.subplots(figsize=(7,4))\n",
    "ax.bar(x-0.25, t_items.head(10)['lose_count'], w, label='проигравшие')\n",
    "ax.bar(x, t_items.head(10)['win_count'], w, label='победители', )\n",
    "ax.set_xticks(ticks=range(1,11))\n",
    "ax.set_xticklabels(labels)\n",
    "plt.title('Топ-10 популярных предметов,\\\n",
    "\\nкоторые есть и у победителей, и у проигравших\\n')\n",
    "plt.xlabel('')\n",
    "plt.ylabel('Количество')\n",
    "plt.legend()\n",
    "plt.xticks(rotation=70)\n",
    "plt.show();"
   ]
  },
  {
   "cell_type": "markdown",
   "metadata": {
    "id": "f80HBzEGGlGt"
   },
   "source": [
    "**Промежуточный вывод по 2.3.5.**\n",
    "* популярные предметы: magic wand, blink dagger, power treads, arcane boots\n",
    "* эти предметы популярны как у победителей, так и у проигравших\n",
    "* еще есть какой-то Unknown Item, тоже популярный"
   ]
  },
  {
   "cell_type": "markdown",
   "metadata": {
    "id": "vDolYHKqqIBD"
   },
   "source": [
    "**Топ-10 предметов, которые чаще присутствовали у победителей**"
   ]
  },
  {
   "cell_type": "code",
   "execution_count": null,
   "metadata": {
    "colab": {
     "base_uri": "https://localhost:8080/",
     "height": 363
    },
    "id": "ffjDVgYzkOK9",
    "outputId": "949c1f29-216b-41cc-f57a-935033cfdcb2"
   },
   "outputs": [],
   "source": [
    "t_items.nlargest(10,'diff_w_l')"
   ]
  },
  {
   "cell_type": "markdown",
   "metadata": {
    "id": "1FymdeggqTa0"
   },
   "source": [
    "**Топ-10 предметов, которые чаще присутствовали у проигравших**"
   ]
  },
  {
   "cell_type": "code",
   "execution_count": null,
   "metadata": {
    "colab": {
     "base_uri": "https://localhost:8080/",
     "height": 363
    },
    "id": "T8tZwSbaqXRm",
    "outputId": "3326317e-382b-4e61-9e50-813fed36f012"
   },
   "outputs": [],
   "source": [
    "t_items.nsmallest(10,'diff_w_l')"
   ]
  },
  {
   "cell_type": "code",
   "execution_count": null,
   "metadata": {
    "colab": {
     "base_uri": "https://localhost:8080/"
    },
    "id": "IzoMV3YXnDxK",
    "outputId": "b8ff2e95-5859-4d96-89cf-b1921cc51c23"
   },
   "outputs": [],
   "source": [
    "# поиск предметов, которые есть у победителей, но нет у проигравших\n",
    "set_win = set(sum_win_items['items'])\n",
    "set_lose = set(sum_lose_items['items'])\n",
    "set_only_win = set_win - set_lose\n",
    "print(f'Предметы, кторые есть только у победителей: {set_only_win}')\n",
    "set_only_lose = set_lose - set_win\n",
    "print(f'Предметы, кторые есть только у проигравших: {set_only_lose}')"
   ]
  },
  {
   "cell_type": "markdown",
   "metadata": {
    "id": "-b7PIYgkYI_J"
   },
   "source": [
    "**Промежуточный вывод по 2.3.5**\n",
    "* Предметы, которые чаще выбирают победители: Aegis of the Immortal, Gem of True Sight, Divine Rapier\n",
    "* Предметы, которые чаще выбирают проигравшие: Oblivion Staff, Blades of Attack\t, Diadem\n",
    "* Предметы, которые были только у победителей: 'Crimson Guard Recipe', 'Aether Lens Recipe', 'Mekansm Recipe', 'Pipe of Insight Recipe', \"Aghanim's Shard\"\n",
    "* Предметы, которые были только у проигравших: 'Band of Elvenskin', 'Refresher Orb Recipe', 'Heart of Tarrasque Recipe', 'Scythe of Vyse Recipe', \"Shiva's Guard Recipe\", 'Lotus Orb Recipe', 'Assault Cuirass Recipe', 'Daedalus Recipe'"
   ]
  },
  {
   "cell_type": "markdown",
   "metadata": {
    "id": "MVQF0_5glO1j"
   },
   "source": [
    "#### 2.3.6. Какой герой фармит больше всего золота за игру"
   ]
  },
  {
   "cell_type": "code",
   "execution_count": null,
   "metadata": {
    "colab": {
     "base_uri": "https://localhost:8080/",
     "height": 404
    },
    "id": "xyuZINrPx_x-",
    "outputId": "c08e493d-5014-4a4c-c477-ab06b44105b4"
   },
   "outputs": [],
   "source": [
    "hero_lead(data, 'gold_per_min')"
   ]
  },
  {
   "cell_type": "markdown",
   "metadata": {
    "id": "kULuwKa-0x1C"
   },
   "source": [
    "**Промежуточный вывод по 2.3.6:**\n",
    "* Naga Siren, Medusa и Luna больше всех фармят золото"
   ]
  },
  {
   "cell_type": "markdown",
   "metadata": {
    "id": "h49MYzqt0-dx"
   },
   "source": [
    "#### 2.3.7. Какие герои получают больше опыта за игру"
   ]
  },
  {
   "cell_type": "code",
   "execution_count": null,
   "metadata": {
    "colab": {
     "base_uri": "https://localhost:8080/",
     "height": 404
    },
    "id": "4nfsiJPu1Jy4",
    "outputId": "bdc038cb-2151-4e04-8868-9004ade2c65a"
   },
   "outputs": [],
   "source": [
    "hero_lead(data, 'xp_per_min')"
   ]
  },
  {
   "cell_type": "markdown",
   "metadata": {
    "id": "bhsJPDj2ZTZB"
   },
   "source": [
    "**Промежуточный вывод по 2.3.7:**\n",
    "* Anti-Mage, Necrophos и Weaver больше всех получают опыта за игру"
   ]
  },
  {
   "cell_type": "markdown",
   "metadata": {
    "id": "wh-xZBiMjOWQ"
   },
   "source": [
    "#### 2.3.8. Какие фракции чаще всего выигрывают"
   ]
  },
  {
   "cell_type": "code",
   "execution_count": null,
   "metadata": {
    "colab": {
     "base_uri": "https://localhost:8080/",
     "height": 409
    },
    "id": "v4g6W-MzjYRh",
    "outputId": "5b94eb14-b025-4e49-ec6f-0500da044d50"
   },
   "outputs": [],
   "source": [
    "plt.figure(figsize=(2,4))\n",
    "sns.countplot(data=matches, x='radiant_win', stat='percent')\n",
    "plt.title('Добро или зло?')\n",
    "plt.xlabel('Фракция добра = True')\n",
    "plt.ylabel('%')\n",
    "plt.show();"
   ]
  },
  {
   "cell_type": "markdown",
   "metadata": {
    "id": "dyyxUT1hnOZ7"
   },
   "source": [
    "**Промежуточный вывод по 2.3.8**\n",
    "* Добро побеждает зло чуть чаще, чем наоборот: 50,7% против 49.3%"
   ]
  },
  {
   "cell_type": "markdown",
   "metadata": {
    "id": "E9h64o5x0YOl"
   },
   "source": [
    "#### 2.3.9. Каких героев чаще всего выбирают"
   ]
  },
  {
   "cell_type": "code",
   "execution_count": null,
   "metadata": {
    "colab": {
     "base_uri": "https://localhost:8080/",
     "height": 503
    },
    "id": "BGKvOYrq1b7R",
    "outputId": "9f40090c-348c-47e4-a907-dda6ddbb6707"
   },
   "outputs": [],
   "source": [
    "hero_win, hero_lose, hero_win_lose = top_10(data, 'localized_name')"
   ]
  },
  {
   "cell_type": "code",
   "execution_count": null,
   "metadata": {
    "colab": {
     "base_uri": "https://localhost:8080/",
     "height": 363
    },
    "id": "UhecmoDE8Cmi",
    "outputId": "86c7ca7f-dec0-45ba-b1bd-603cda3c2f5a"
   },
   "outputs": [],
   "source": [
    "hero_win_lose.head(10)"
   ]
  },
  {
   "cell_type": "markdown",
   "metadata": {
    "id": "2X7APhYL1ymp"
   },
   "source": [
    "**Промежуточный вывод по 2.3.9**\n",
    "* Рубик, Луна, Кристал Майден - герои, которых чаще выбирают победители\n",
    "* Рубик, Тини, Луна - герои, которых чаще выбирают проигравшие\n",
    "* все команды стараются успеть выбрать одних и тех же героев, получается выбор героев является важным этапом, но не гарантирующим выигрыш"
   ]
  },
  {
   "cell_type": "markdown",
   "metadata": {
    "id": "XDDYVcft1lNt"
   },
   "source": [
    "#### 2.3.10. Какие герои чаще всего выигрывают"
   ]
  },
  {
   "cell_type": "code",
   "execution_count": null,
   "metadata": {
    "colab": {
     "base_uri": "https://localhost:8080/",
     "height": 363
    },
    "id": "yvlNL8am7KbS",
    "outputId": "867027b0-1ee3-4e06-ddf5-c4096ac5ad5d"
   },
   "outputs": [],
   "source": [
    "hero_win_lose.nlargest(10,'diff_w_l')"
   ]
  },
  {
   "cell_type": "markdown",
   "metadata": {
    "id": "Tp1sn8KFr_QO"
   },
   "source": [
    "**Промежуточный вывод по 2.3.10.**\n",
    "* героев Huskar, Chen, Keeper of the Light не так часто выбирают, как Рубик, Луну и Кристал Майден, но зато команды с ними выигрывают чаще"
   ]
  },
  {
   "cell_type": "markdown",
   "metadata": {
    "id": "2KRJiG1B8n3f"
   },
   "source": [
    "#### 2.3.11. Какие герои совершают больше всего убийств, ассистов"
   ]
  },
  {
   "cell_type": "code",
   "execution_count": null,
   "metadata": {
    "colab": {
     "base_uri": "https://localhost:8080/",
     "height": 394
    },
    "id": "BBUXfM258nAO",
    "outputId": "c3b1b825-d9b4-4225-bd61-348cc79ee8cc"
   },
   "outputs": [],
   "source": [
    "params_heroes = (\n",
    "    data.groupby('localized_name')\n",
    "    .agg({'assists':['mean', 'median'],\n",
    "          'deaths':['mean', 'median'],\n",
    "          'kills':['mean', 'median'],\n",
    "          'denies':['mean', 'median']})\n",
    ")\n",
    "params_heroes.columns = params_heroes.columns.map('_'.join)\n",
    "#params_heroes = params_heroes.reset_index()\n",
    "params_heroes.nlargest(10,'assists_median')"
   ]
  },
  {
   "cell_type": "code",
   "execution_count": null,
   "metadata": {
    "colab": {
     "base_uri": "https://localhost:8080/",
     "height": 394
    },
    "id": "i-Ez3HlVD5wo",
    "outputId": "6f124248-469c-44d3-8aca-c018359b01bf"
   },
   "outputs": [],
   "source": [
    "top_10_plot(params_heroes, 'assists_mean', 'assists_median')"
   ]
  },
  {
   "cell_type": "markdown",
   "metadata": {
    "id": "L2321L-lXGay"
   },
   "source": [
    "**Промежуточный вывод по 2.3.11 (assists)**\n",
    "* Чемпионы в помощи по убийствам: Disruptor, Elder Titan и Io\n",
    "* также можно заметить, что данные герои не являются лидерами в добыче золота, значит они много помогают, но не наносят последние удары..."
   ]
  },
  {
   "cell_type": "code",
   "execution_count": null,
   "metadata": {
    "colab": {
     "base_uri": "https://localhost:8080/",
     "height": 430
    },
    "id": "lpf9boY1IQyA",
    "outputId": "f299016d-1c8b-4db0-f4a9-6caa2f35f2de"
   },
   "outputs": [],
   "source": [
    "top_10_plot(params_heroes, 'kills_mean', 'kills_median')"
   ]
  },
  {
   "cell_type": "markdown",
   "metadata": {
    "id": "XbC5_skDYkQ2"
   },
   "source": [
    "**Промежуточный вывод по 2.3.11 (kills)**\n",
    "* Чемпионы по количеству убийств: Clinkz, Ursa и Weaver\n",
    "* также можно заметить, что данные герои не являются лидерами в добыче золота, кроме героtd Ursa и Necrophos, получается они и убивают, и наносят последние удары, судя по добываемому золоту\n",
    "* Топ-лист героев по убийствам не совпадает с топ-листом героев по ассистам, значит в командах идет четкое разделение по ролям"
   ]
  },
  {
   "cell_type": "code",
   "execution_count": null,
   "metadata": {
    "colab": {
     "base_uri": "https://localhost:8080/",
     "height": 430
    },
    "id": "UnrXJgPAITEd",
    "outputId": "7595478c-a97c-4c62-9c04-de5289537c9d"
   },
   "outputs": [],
   "source": [
    "top_10_plot(params_heroes, 'denies_mean', 'denies_median')"
   ]
  },
  {
   "cell_type": "markdown",
   "metadata": {
    "id": "kbVkeGmOZ-lA"
   },
   "source": [
    "**Промежуточный вывод по 2.3.11 (denies)**\n",
    "* Чемпионы по количеству убийств собственных мобов: Viper, Clockwerk и Clinkz"
   ]
  },
  {
   "cell_type": "markdown",
   "metadata": {
    "id": "EcqtPeokatDX"
   },
   "source": [
    "#### 2.3.12. Какие герои меньше всего умирают"
   ]
  },
  {
   "cell_type": "code",
   "execution_count": null,
   "metadata": {
    "colab": {
     "base_uri": "https://localhost:8080/",
     "height": 431
    },
    "id": "SG-Gr7KzITor",
    "outputId": "82bec0a5-0d3a-4d5d-ee82-846807fe324a"
   },
   "outputs": [],
   "source": [
    "bot_10_plot(params_heroes, 'deaths_mean', 'deaths_median')"
   ]
  },
  {
   "cell_type": "markdown",
   "metadata": {
    "id": "PXsrtPL0a3zK"
   },
   "source": [
    "**Промежуточный вывод по 2.3.12**\n",
    "* Самые живучие: Naga Siren, Lycan, Sven"
   ]
  },
  {
   "cell_type": "markdown",
   "metadata": {
    "id": "LiyQloSY3DuR"
   },
   "source": [
    "#### 2.3.13. Сколько в среднем длится матч"
   ]
  },
  {
   "cell_type": "code",
   "execution_count": null,
   "metadata": {
    "colab": {
     "base_uri": "https://localhost:8080/",
     "height": 335
    },
    "id": "ggWp3pdE4Q01",
    "outputId": "d61458e0-6b4a-472e-ff44-7fb9bd65692a"
   },
   "outputs": [],
   "source": [
    "matches['duration'].describe()"
   ]
  },
  {
   "cell_type": "code",
   "execution_count": null,
   "metadata": {
    "colab": {
     "base_uri": "https://localhost:8080/",
     "height": 331
    },
    "id": "VO2t9EMc3LM_",
    "outputId": "0bac2dcf-cb72-456d-c32d-53003be32c8a"
   },
   "outputs": [],
   "source": [
    "plt.figure(figsize=(6,3))\n",
    "sns.distplot(matches['duration'],\n",
    "             norm_hist=True,\n",
    "             fit=norm,\n",
    "             bins=20,)\n",
    "plt.title('Распределение игр по времени')\n",
    "plt.xlabel('Минуты')\n",
    "plt.ylabel('Плотность')\n",
    "plt.show();"
   ]
  },
  {
   "cell_type": "markdown",
   "metadata": {
    "id": "7yZ_NvZf4G8v"
   },
   "source": [
    "**Промежуточный вывод по 2.3.13**\n",
    "* Средняя длительность игры: 33.5 минуты\n",
    "* Медианная длительность игры: 31.5 минута\n",
    "* распределение немного отличается от нормального, смещено влево"
   ]
  },
  {
   "cell_type": "markdown",
   "metadata": {
    "id": "CtovWSaw5Hy5"
   },
   "source": [
    "#### 2.3.14. Среднее время до первой крови"
   ]
  },
  {
   "cell_type": "code",
   "execution_count": null,
   "metadata": {
    "colab": {
     "base_uri": "https://localhost:8080/",
     "height": 335
    },
    "id": "vH5YLb_J5HzD",
    "outputId": "e54efc8c-6423-447f-93bb-876c892a7144"
   },
   "outputs": [],
   "source": [
    "matches['first_blood_time'].describe()"
   ]
  },
  {
   "cell_type": "code",
   "execution_count": null,
   "metadata": {
    "colab": {
     "base_uri": "https://localhost:8080/",
     "height": 332
    },
    "id": "T5yyXr6t5HzD",
    "outputId": "30b12f54-b157-425f-a17a-bc4927b12cd1"
   },
   "outputs": [],
   "source": [
    "plt.figure(figsize=(6,3))\n",
    "sns.distplot(matches['first_blood_time'],\n",
    "             norm_hist=True,\n",
    "             fit=norm,\n",
    "             bins=40,)\n",
    "plt.title('Распределение времени первой крови')\n",
    "plt.xlabel('Секунды')\n",
    "plt.ylabel('Плотность')\n",
    "plt.show();"
   ]
  },
  {
   "cell_type": "markdown",
   "metadata": {
    "id": "5qgWi5m85HzE"
   },
   "source": [
    "**Промежуточный вывод по 2.3.14**\n",
    "* Существует два пика: 0 секунд и ~110-130 секунд\n",
    "* Медианное время 110 секунд < среднего времени 125,9 секунд из-за первого нулевого пика\n",
    "* 0 секунд объяснется тем, что у игроков есть время до старта, когда уже можно что-то делать, но таймер игры еще не запустился: от 60 до 75 секунд (зависит от режима игры)\n",
    "* Если исключить первый пик, то распределение близко к нормальному"
   ]
  },
  {
   "cell_type": "markdown",
   "metadata": {
    "id": "_sV_uBT_PkQ2"
   },
   "source": [
    "#### 2.3.15. Какие герои могут повлиять на исход матча (наличие carry в столбце роль) в долгих играх (больше 50 минут)"
   ]
  },
  {
   "cell_type": "code",
   "execution_count": null,
   "metadata": {
    "colab": {
     "base_uri": "https://localhost:8080/",
     "height": 206
    },
    "id": "gNoAgWhpllWj",
    "outputId": "e4a7bfe3-f36e-41dc-f8e4-977cf5c1f7ab"
   },
   "outputs": [],
   "source": [
    "# проверим корреляцию между ролями героев команды и выигрышем\n",
    "roles_from_50 = (\n",
    "    data.query('duration >= 50')\n",
    "    .groupby(['match_id', 'win',]).agg({'carry':'sum',\n",
    "                                        'support':'sum',\n",
    "                                        'nuker':'sum',\n",
    "                                        'escape':'sum',\n",
    "                                        'disabler':'sum',\n",
    "                                        'pusher':'sum',\n",
    "                                        'initiator':'sum',\n",
    "                                        'durable':'sum',}).reset_index()\n",
    ")\n",
    "roles_from_50.head()"
   ]
  },
  {
   "cell_type": "code",
   "execution_count": null,
   "metadata": {
    "colab": {
     "base_uri": "https://localhost:8080/",
     "height": 536
    },
    "id": "3FD9z5sWjCEe",
    "outputId": "92c73319-26ff-4203-bed9-03cbdc88ea87"
   },
   "outputs": [],
   "source": [
    "cm = roles_from_50.drop(columns=['match_id']).corr()\n",
    "plt.figure(figsize=(5,5))\n",
    "sns.heatmap(cm, annot=True, square=True, fmt='.2f', cmap='coolwarm', cbar=False)\n",
    "plt.title('Тепловая карта для матрицы корреляций\\\n",
    "\\n ролей с выигрышем для игр от 50 минут\\n')\n",
    "plt.show();"
   ]
  },
  {
   "cell_type": "markdown",
   "metadata": {
    "id": "TFcrkCDdbvTA"
   },
   "source": [
    "**Промежуточный вывод по 2.3.15**\n",
    "* роль героя carry сильнее других ролей коррелирует с победой в игре\n",
    "* меньше всего коррелирует с выигрышем роль durable\n",
    "* посмотрим, каких героев с этой ролью больше в командах победивших, чем в командах проигравших"
   ]
  },
  {
   "cell_type": "code",
   "execution_count": null,
   "metadata": {
    "colab": {
     "base_uri": "https://localhost:8080/"
    },
    "id": "QWzQq7uAMpVl",
    "outputId": "659ca75c-56dc-4bdd-ad70-c120a96fa790"
   },
   "outputs": [],
   "source": [
    "print('Количество матчей, длительностью от 50 минут:',\n",
    "      roles_from_50['match_id'].nunique())\n",
    "print('Количество команд победителей в матчах, длительностью\\\n",
    " от 50 минут, где есть герои с ролью carry:',\n",
    "      roles_from_50.query('win == 1 and carry >= 1')['match_id'].nunique())\n",
    "print('Количество команд проигравших в матчах, длительностью\\\n",
    " от 50 минут, где есть герои с ролью carry:',\n",
    "      roles_from_50.query('win == 0 and carry >= 1')['match_id'].nunique())"
   ]
  },
  {
   "cell_type": "code",
   "execution_count": null,
   "metadata": {
    "colab": {
     "base_uri": "https://localhost:8080/",
     "height": 394
    },
    "id": "KV-X64IVPYPj",
    "outputId": "62d00425-065d-410e-d428-a1b3614d5ae0"
   },
   "outputs": [],
   "source": [
    "new = (\n",
    "    data\n",
    "    .query('duration >= 50 and carry == 1')\n",
    "    .groupby('localized_name').agg({'win':['sum', 'count']})\n",
    ")\n",
    "new.columns = new.columns.map('_'.join)\n",
    "new = new.rename(columns={'win_count':'total'})\n",
    "new['lose'] = new['total'] - new['win_sum']\n",
    "new['win-lose'] = (new['win_sum']) / new['total']\n",
    "new = new.sort_values(by='win-lose', ascending=False)\n",
    "# сключим из списка героев, у которых только 1 или 2 игры\n",
    "new.query('total > 2').head(10)"
   ]
  },
  {
   "cell_type": "markdown",
   "metadata": {
    "id": "CZA4_98IUiQ8"
   },
   "source": [
    "**Промежуточный вывод по 2.3.15**\n",
    "* Лидеры среди героев с carry для долгих матчей по количеству выигрышей: Night Stalker, Naga Siren, Mirana, Anti-Mage, Weaver\n"
   ]
  },
  {
   "cell_type": "code",
   "execution_count": null,
   "metadata": {
    "colab": {
     "base_uri": "https://localhost:8080/",
     "height": 406
    },
    "id": "gEKMe2g-ZcT9",
    "outputId": "9993f06f-b55a-4b25-bda6-5173bfb1b6be"
   },
   "outputs": [],
   "source": [
    "plt.figure(figsize=(6,3))\n",
    "(\n",
    "    data\n",
    ".query('duration >= 50 and win == 1 and carry == 1')['localized_name']\n",
    ".value_counts().head(10).plot(kind='bar')\n",
    ")\n",
    "plt.title('Популярные герои с carry в победивших командах')\n",
    "plt.xlabel('Герои')\n",
    "plt.ylabel('Количество')\n",
    "plt.xticks(rotation=70)\n",
    "plt.show();"
   ]
  },
  {
   "cell_type": "code",
   "execution_count": null,
   "metadata": {
    "colab": {
     "base_uri": "https://localhost:8080/",
     "height": 406
    },
    "id": "gL61S6F5O4uy",
    "outputId": "6b67046e-d95e-431b-9925-0444d980be5c"
   },
   "outputs": [],
   "source": [
    "plt.figure(figsize=(6,3))\n",
    "(\n",
    "    data\n",
    ".query('duration >= 50 and win == 0 and carry == 1')['localized_name']\n",
    ".value_counts().head(10).plot(kind='bar')\n",
    ")\n",
    "plt.title('Популярные герои с carry в проигравших командах')\n",
    "plt.xlabel('Герои')\n",
    "plt.ylabel('Количество')\n",
    "plt.xticks(rotation=70)\n",
    "plt.show();"
   ]
  },
  {
   "cell_type": "markdown",
   "metadata": {
    "id": "O7Be3-UEacfn"
   },
   "source": [
    "**Промежуточный вывод по 2.3.15**\n",
    "* Популярные герои с carry: Gyrocopter, Tiny, Weaver, Luna\n"
   ]
  },
  {
   "cell_type": "markdown",
   "metadata": {
    "id": "fxTwxBIOs3Xo"
   },
   "source": [
    "#### 2.3.16. Различия в основных атрибуте героя"
   ]
  },
  {
   "cell_type": "code",
   "execution_count": null,
   "metadata": {
    "colab": {
     "base_uri": "https://localhost:8080/",
     "height": 311
    },
    "id": "VHVzoPMJswbW",
    "outputId": "d070ee9c-a659-48f4-a20c-03b497631f2b"
   },
   "outputs": [],
   "source": [
    "plt.figure(figsize=(5,3))\n",
    "sns.countplot(\n",
    "    data,\n",
    "    x='primary_attr',\n",
    "    hue='win',\n",
    "    stat='percent',\n",
    "    order=data['primary_attr']\n",
    "                .value_counts()\n",
    "                .index\n",
    "    )\n",
    "plt.title('Распределение основных атрибутов героев', fontsize=11)\n",
    "plt.xlabel('')\n",
    "plt.ylabel('% от общего')\n",
    "plt.legend(bbox_to_anchor=(1, 1))\n",
    "plt.show();"
   ]
  },
  {
   "cell_type": "markdown",
   "metadata": {
    "id": "jVVpa-uOtwpD"
   },
   "source": [
    "**Промежуточный вывод по 2.3.16.**\n",
    "* победители чуть больше предпочтают ум, а проигравшие чуть больше силу"
   ]
  },
  {
   "cell_type": "markdown",
   "metadata": {
    "id": "B0gc0qnqxcCc"
   },
   "source": [
    "### 2.4. Гипотезы и их проверка"
   ]
  },
  {
   "cell_type": "markdown",
   "metadata": {
    "id": "4jzboOVx-uDu"
   },
   "source": [
    "#### 2.4.1. Гипотеза  о равенстве средних числовых характеристик матчей\n",
    "\n",
    "\n",
    "**Нулевая гипотеза Н0:**  выборочные средние числовых параметров команд победителей равны выборочным средним числовых параметров проигравших\n",
    "\n",
    "\n",
    "**Альтернативная гипотеза Н1:** выборочные средние числовых параметров команд победителей не равны выборочным средним числовых параметров проигравших\n",
    "\n",
    "\n",
    "* выборки проигравших и победителей независимы друг от друга\n",
    "* распределения близки к нормальным в большинстве случаев, выбросов нет\n",
    "* поэтому будет t-тест"
   ]
  },
  {
   "cell_type": "code",
   "execution_count": null,
   "metadata": {
    "id": "WmeD8TwoAMgK"
   },
   "outputs": [],
   "source": [
    "# список числовых характеристик команд для проверки:\n",
    "list_for_check = ['rate_win', 'assists', 'deaths', 'denies',\n",
    "                  'gold_per_min', 'kills', 'xp_per_min', 'kills_per_min',\n",
    "                  'last_hits_per_min', 'hero_damage_per_min',\n",
    "                  'hero_healing_per_min', 'tower_damage_per_min',\n",
    "                  'support', 'nuker', 'escape', 'disabler',\n",
    "                  'carry', 'pusher', 'initiator', 'durable',]"
   ]
  },
  {
   "cell_type": "code",
   "execution_count": null,
   "metadata": {
    "colab": {
     "base_uri": "https://localhost:8080/"
    },
    "id": "5ofjKSDvAw9d",
    "outputId": "9a81ce05-2d19-4409-a7a5-f2ffe4c219c5"
   },
   "outputs": [],
   "source": [
    "alpha = 0.05\n",
    "for i in list_for_check:\n",
    "    results = (\n",
    "        st.ttest_ind(match_win[i],\n",
    "                     match_lose[i],\n",
    "                     equal_var=True)\n",
    "    )\n",
    "    print(f'Параметр {i}')\n",
    "    print(f'p-value: {results.pvalue}')\n",
    "    if results.pvalue < alpha:\n",
    "        print(f'Отвергаем нулевую гипотезу: разница средних {i} \\\n",
    "проигравших и победителей статистически значима\\n')\n",
    "    else:\n",
    "        print(f'Не получилось отвергнуть нулевую гипотезу: \\\n",
    "вывод о различии средних {i} сделать нельзя\\n')"
   ]
  },
  {
   "cell_type": "markdown",
   "metadata": {
    "id": "9T-fcBVsazTt"
   },
   "source": [
    "**Промежуточный вывод по 2.4.1.**\n",
    "* итак разница в средних 'rate_win', 'assists', 'deaths', 'denies', 'gold_per_min', 'kills', 'xp_per_min', 'kills_per_min', 'last_hits_per_min', 'hero_damage_per_min', 'hero_healing_per_min', 'tower_damage_per_min' между командами проиравших и победителей статистически значима"
   ]
  },
  {
   "cell_type": "markdown",
   "metadata": {
    "id": "s_Ok1X78GTid"
   },
   "source": [
    "#### 2.4.2. Гипотеза  о равенстве средних числовых характеристик матчей с топовыми игроками и без них\n",
    "\n",
    "\n",
    "**Нулевая гипотеза Н0:**  выборочные средние числовых параметров команд с топовыми игроками равны выборочным средним числовых параметров команд без топовых игроков\n",
    "\n",
    "\n",
    "**Альтернативная гипотеза Н1:** выборочные средние числовых параметров команд с топовыми игроками не равны выборочным средним числовых параметров команд без топовых игроков\n",
    "\n",
    "\n",
    "* выборки команд с топовыми игроками и без них независимы друг от друга\n",
    "* распределения близки к нормальным в большинстве случаев, выбросов нет\n",
    "* правда, размеры выборок сильно отличаются: 304 и 1498, но обе выборки большие\n",
    "* поэтому будет t-тест"
   ]
  },
  {
   "cell_type": "code",
   "execution_count": null,
   "metadata": {
    "id": "r98METTaGTie"
   },
   "outputs": [],
   "source": [
    "# список числовых характеристик команд для проверки:\n",
    "list_for_check = ['rate_win', 'assists', 'deaths', 'denies',\n",
    "                  'gold_per_min', 'kills', 'xp_per_min', 'kills_per_min',\n",
    "                  'last_hits_per_min', 'hero_damage_per_min',\n",
    "                  'hero_healing_per_min', 'tower_damage_per_min',\n",
    "                  'support', 'nuker', 'escape', 'disabler',\n",
    "                  'carry', 'pusher', 'initiator', 'durable',\n",
    "                  'duration', 'first_blood_time']"
   ]
  },
  {
   "cell_type": "code",
   "execution_count": null,
   "metadata": {
    "colab": {
     "base_uri": "https://localhost:8080/"
    },
    "id": "RCCJS_McHT-b",
    "outputId": "f5f03780-8bb6-4859-fa1c-a3d827a824b6"
   },
   "outputs": [],
   "source": [
    "top_players_matches.columns"
   ]
  },
  {
   "cell_type": "code",
   "execution_count": null,
   "metadata": {
    "colab": {
     "base_uri": "https://localhost:8080/"
    },
    "id": "1DVYd3VAGTie",
    "outputId": "43e5794d-54f7-4ec1-cd9b-eee153946116"
   },
   "outputs": [],
   "source": [
    "alpha = 0.05\n",
    "for i in list_for_check:\n",
    "    results = (\n",
    "        st.ttest_ind(top_players_matches[i],\n",
    "                     not_top_players_matches[i],\n",
    "                     equal_var=False)\n",
    "    )\n",
    "    print(f'Параметр {i}')\n",
    "    print(f'p-value: {results.pvalue}')\n",
    "    if results.pvalue < alpha:\n",
    "        print(f'Отвергаем нулевую гипотезу: разница средних {i} \\\n",
    "проигравших и победителей статистически значима\\n')\n",
    "    else:\n",
    "        print(f'Не получилось отвергнуть нулевую гипотезу: \\\n",
    "вывод о различии средних {i} сделать нельзя\\n')"
   ]
  },
  {
   "cell_type": "markdown",
   "metadata": {
    "id": "N8UtGIgwbu53"
   },
   "source": [
    "**Промежуточный вывод по 2.4.2.**\n",
    "* итак разница в средних всех параметров, кроме длительности матча между командами с топовыми игроками и без них статистически значима"
   ]
  },
  {
   "cell_type": "markdown",
   "metadata": {
    "id": "CTuiXgrcLGuj"
   },
   "source": [
    "## 3. Общие выводы\n",
    "\n",
    "**Цель проекта** провести исследовательский анализ данных, сформулировать и проверить гипотезы, которые позволят точнее настроить модель предсказания результатов матчей в игре DOTA 2.\n",
    "* **Гипотезы:**\n",
    "1. Выборочные средние числовых параметров матчей победителей равны средим выборочным числовых параметров проигравших\n",
    "2. Выборочные средние числовых параметров матчей с топовыми игроками равны средим выборочным числовых параметров матчей без топовых игроков\n",
    "\n",
    "* **Ход исследования:**\n",
    "* данные загружены с sql-сервера. Данные чистые, исправлено только название одной колонки, типы данных соответствуют значениям, выбросов нет, пропуски не имеют значения для исследования. Были добавлены вспомогательные столбцы\n",
    "* были проанализированы числовые параметры матчей: assists, deaths, kills, 'denies', 'gold_per_min', 'xp_per_min', 'kills_per_min', 'last_hits_per_min', 'hero_damage_per_min', 'hero_healing_per_min', 'tower_damage_per_min' в размере победителей/проигравших\n",
    "* проверена степень корреляции параметров с выигрышем\n",
    "* был проведен поиск популярных, топовых предметов, героев"
   ]
  },
  {
   "cell_type": "markdown",
   "metadata": {
    "id": "I7KsWt47K9m-"
   },
   "source": [
    "### Расширенные выводы\n",
    "\n",
    "1. **Корреляция**\n",
    "при сравнении значений корреляции признаков по отдельным гигрокам и командным, можно заметить, что суммарные признаки коррелируют с победой значительно сильнее, что говорит о том, что **dota2 - это командная игра**\n",
    "* в итоге с победой сильно коррелируют в порядке убывания:  \n",
    " - tower_damage_per_min,\n",
    " - gold_per_min,\n",
    " - kills_per_min,\n",
    " - kills,\n",
    " - xp_per_min,\n",
    " - assists  \n",
    " - deaths(обратная)\n",
    "* корреляция среднего процента выигрыша игроков команды с выигрышем команды слабая\n",
    "* в зависимости от длительности игры (<~20мин, от 20 до 50 мин, >50 мин) степень корреляции с выигрышем меняется:\n",
    "  * например, процент побед игроков важнее в коротких играх, чем в длинных\n",
    "  * роль carry выстреливает только в длинных играх, так как все начальное время такие герои просто фармят золото и опыт для длинной игры\n",
    "  * в коротких играх роли support, pusher и durable сильнее коррелируют с победой, чем в остальных играх\n",
    "  * количество смертей начинает сильнее коррелировать с победой именно в длинных играх, так как мы помним про carry с их золотом\n",
    "  * про союзных мобов в длинных играх можно забыть, навреное, они уже  все убиты к этому времени\n",
    "  * в коротки играх важнее сразу начать убивать вражеских героев, с увеличением длительности игры степень корреляции падает\n",
    "\n",
    "2. **Победители vs Проигравшие**\n",
    "* команды победителей больше помогают при убийствах, чем команды проигравших\n",
    "* победители не сильно отличаются от проигравши при убийствах собственных мобов, проиравшие лишь немного больше заняты собственными мобами, чем победители\n",
    "* команды победителей меньше умирают, чем команды проигравших\n",
    "* у команд победителей больше убийств, чем у проигравших\n",
    "* команды победителей больше фармят золота, чем проигравшие\n",
    "* команды победителей сильно в отрыве по увеличению опыта от проигравших\n",
    "* команды победителей больше убивают за минуту, чем проигравшие\n",
    "* распределения проигравших и победителей по последнему удару в минуту не сильно отличаются друг от друга\n",
    "* победители более рисковые ребята, их игроки больше получают ранений, чем проигравшие\n",
    "* как я поняла, у победителей больше героев со способностями лечения, чем у проигравших\n",
    "* так как цель игры: уничтожить башню с троном, то соответсвенно tower_damage_per_min ключевой параметр, и у победителей он значительно выше, чем у проигравших\n",
    "* Все различия (даже denies) оказались статистически значимыми\n",
    "\n",
    "3. **Предметы**\n",
    "* популярные предметы: magic wand, blink dagger, power treads, arcane boots\n",
    "* эти предметы популярны как у победителей, так и у проигравших\n",
    "* еще есть какой-то Unknown Item, тоже популярный\n",
    "* чаще выбирают победители: Aegis of the Immortal, Gem of True Sight, Divine Rapier\n",
    "* чаще выбирают проигравшие: Oblivion Staff, Blades of Attack\t, Diadem (если буду играть, то не буду их выбирать :))\n",
    "* только у победителей: 'Crimson Guard Recipe', 'Aether Lens Recipe', 'Mekansm Recipe', 'Pipe of Insight Recipe', \"Aghanim's Shard\"\n",
    "* только у проигравших: 'Band of Elvenskin', 'Refresher Orb Recipe', 'Heart of Tarrasque Recipe', 'Scythe of Vyse Recipe', \"Shiva's Guard Recipe\", 'Lotus Orb Recipe', 'Assault Cuirass Recipe', 'Daedalus Recipe' (если буду играть, то не буду их выбирать :))\n",
    "\n",
    "4. **Герои**\n",
    "* Naga Siren, Medusa и Luna больше всех фармят золото\n",
    "* Anti-Mage, Necrophos и Weaver больше всех получают опыта за игру\n",
    "* Чемпионы в помощи по убийствам: Disruptor, Elder Titan и Io. Также можно заметить, что данные герои не являются лидерами в добыче золота, значит они много помогают, но не наносят последние удары...\n",
    "* Чемпионы по количеству убийств: Clinkz, Ursa и Weaver. Топ-лист героев по убийствам не совпадает с топ-листом героев по ассистам, значит в командах идет четкое разделение по ролям\n",
    "* Чемпионы по количеству убийств собственных мобов: Viper, Clockwerk и Clinkz\n",
    "* Самые живучие: Naga Siren, Lycan, Sven\n",
    "* Рубик, Луна, Кристал Майден - герои, которых чаще выбирают победители\n",
    "* Рубик, Тини, Луна - герои, которых чаще выбирают проигравшие\n",
    "* все команды стараются успеть выбрать одних и тех же героев, получается выбор героев является важным этапом, но не гарантирующим выигрыш\n",
    "* героев Huskar, Chen, Keeper of the Light не так часто выбирают, как Рубик, Луну и Кристал Майден, но зато команды с ними выигрывают чаще\n",
    "* основные атрибуты героев практически не отличаются и у побдителей, и у проигравших\n",
    "\n",
    "5. **Общие параметры матчей**\n",
    "* Добро побеждает зло чуть чаще, чем наоборот: 50,7% против 49.3%\n",
    "* Средняя длительность игры: 33.5 минуты\n",
    "* Медианная длительность игры: 31.5 минута\n",
    "* Время первой крови: два пика: 0 секунд и ~110-130 секунд. 0 секунд объяснется тем, что у игроков есть время до старта, когда уже можно что-то делать, но таймер игры еще не запустился: от 60 до 75 секунд (зависит от режима игры)\n",
    "\n",
    "6. **Роли героев**\n",
    "* роль героя carry сильнее других ролей коррелирует с победой в игре\n",
    "* меньше всего коррелирует с выигрышем роль durable\n",
    "* Лидеры среди героев с carry для долгих матчей по количеству выигрышей: Night Stalker, Naga Siren, Mirana, Anti-Mage, Weaver\n",
    "* Популярные герои с carry: Gyrocopter, Tiny, Weaver, Luna\n",
    "\n",
    "7. **Топовые игроки**\n",
    "* странно, но все характеристики матчей с топами смещены влево относительно характеристик матчей без топов\n",
    "* разница в средних всех параметров, кроме длительности матча между командами с топовыми игроками и без них статистически значима\n",
    "\n",
    "### ПС: Да, признаки победителей отличаются от признаков проигравших, есть герои-лидеры, есть топовые предметы. И все-таки, я думаю, что это только корреляция, это не причинно-следственная связь, те или иные показатели не обуславливают победу команды. А главное для победы — это стратегия и команда. Может нужно попробовать поискать связки игроков."
   ]
  },
  {
   "cell_type": "code",
   "execution_count": null,
   "metadata": {
    "id": "xH7L1tkWghLv"
   },
   "outputs": [],
   "source": []
  }
 ],
 "metadata": {
  "colab": {
   "provenance": [],
   "toc_visible": true
  },
  "kernelspec": {
   "display_name": "Python 3 (ipykernel)",
   "language": "python",
   "name": "python3"
  },
  "language_info": {
   "codemirror_mode": {
    "name": "ipython",
    "version": 3
   },
   "file_extension": ".py",
   "mimetype": "text/x-python",
   "name": "python",
   "nbconvert_exporter": "python",
   "pygments_lexer": "ipython3",
   "version": "3.10.9"
  }
 },
 "nbformat": 4,
 "nbformat_minor": 1
}
